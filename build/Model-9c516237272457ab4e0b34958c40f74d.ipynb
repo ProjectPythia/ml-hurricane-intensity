{
 "cells": [
  {
   "cell_type": "markdown",
   "metadata": {},
   "source": [
    "# Model Setup\n",
    "\n"
   ]
  },
  {
   "cell_type": "markdown",
   "metadata": {},
   "source": [
    "---"
   ]
  },
  {
   "cell_type": "markdown",
   "metadata": {},
   "source": [
    "## Overview\n",
    "This notebook is for setting up a simple CNN-LSTM model to predict event-wise hurricane intensity using the prreproceesed data from the `era5_preprocessing.ipynb` notebook. \n",
    "\n",
    "1. **Data Preparation**: Load and preprocess the data.\n",
    "2. **Model Definition**: Define a CNN-LSTM model.\n",
    "3. **Model Training**: Train the model on the prepared data. \n",
    "4. **Model Evaluation**: Evaluate the model's performance on test data.   "
   ]
  },
  {
   "cell_type": "markdown",
   "metadata": {},
   "source": [
    "---"
   ]
  },
  {
   "cell_type": "markdown",
   "metadata": {},
   "source": [
    "## Imports\n"
   ]
  },
  {
   "cell_type": "code",
   "execution_count": 133,
   "metadata": {},
   "outputs": [],
   "source": [
    "import numpy as np\n",
    "import pandas as pd\n",
    "from sklearn.model_selection import train_test_split\n",
    "import xarray as xr\n",
    "\n",
    "\n",
    "from sklearn.preprocessing import MinMaxScaler\n",
    "\n",
    "\n",
    "from tensorflow.keras.models import Sequential\n",
    "from tensorflow.keras.layers import Conv2D\n",
    "from tensorflow.keras.layers import Dense\n",
    "from tensorflow.keras.layers import Flatten\n",
    "from keras.layers import Dense, Flatten, Conv2D\n",
    "from tensorflow.keras.layers import  TimeDistributed, LSTM\n",
    "import visualkeras\n",
    "import tensorflow as tf\n"
   ]
  },
  {
   "cell_type": "markdown",
   "metadata": {},
   "source": [
    "## Load the hurricane wise variable dataset"
   ]
  },
  {
   "cell_type": "markdown",
   "metadata": {},
   "source": [
    "In this section,we will load the preprocessed dataset containing hurricane-wise environmental variables. This dataset is essential for training our CNN-LSTM model to predict hurricane intensity.\n"
   ]
  },
  {
   "cell_type": "code",
   "execution_count": 132,
   "metadata": {},
   "outputs": [
    {
     "data": {
      "text/html": [
       "<div><svg style=\"position: absolute; width: 0; height: 0; overflow: hidden\">\n",
       "<defs>\n",
       "<symbol id=\"icon-database\" viewBox=\"0 0 32 32\">\n",
       "<path d=\"M16 0c-8.837 0-16 2.239-16 5v4c0 2.761 7.163 5 16 5s16-2.239 16-5v-4c0-2.761-7.163-5-16-5z\"></path>\n",
       "<path d=\"M16 17c-8.837 0-16-2.239-16-5v6c0 2.761 7.163 5 16 5s16-2.239 16-5v-6c0 2.761-7.163 5-16 5z\"></path>\n",
       "<path d=\"M16 26c-8.837 0-16-2.239-16-5v6c0 2.761 7.163 5 16 5s16-2.239 16-5v-6c0 2.761-7.163 5-16 5z\"></path>\n",
       "</symbol>\n",
       "<symbol id=\"icon-file-text2\" viewBox=\"0 0 32 32\">\n",
       "<path d=\"M28.681 7.159c-0.694-0.947-1.662-2.053-2.724-3.116s-2.169-2.030-3.116-2.724c-1.612-1.182-2.393-1.319-2.841-1.319h-15.5c-1.378 0-2.5 1.121-2.5 2.5v27c0 1.378 1.122 2.5 2.5 2.5h23c1.378 0 2.5-1.122 2.5-2.5v-19.5c0-0.448-0.137-1.23-1.319-2.841zM24.543 5.457c0.959 0.959 1.712 1.825 2.268 2.543h-4.811v-4.811c0.718 0.556 1.584 1.309 2.543 2.268zM28 29.5c0 0.271-0.229 0.5-0.5 0.5h-23c-0.271 0-0.5-0.229-0.5-0.5v-27c0-0.271 0.229-0.5 0.5-0.5 0 0 15.499-0 15.5 0v7c0 0.552 0.448 1 1 1h7v19.5z\"></path>\n",
       "<path d=\"M23 26h-14c-0.552 0-1-0.448-1-1s0.448-1 1-1h14c0.552 0 1 0.448 1 1s-0.448 1-1 1z\"></path>\n",
       "<path d=\"M23 22h-14c-0.552 0-1-0.448-1-1s0.448-1 1-1h14c0.552 0 1 0.448 1 1s-0.448 1-1 1z\"></path>\n",
       "<path d=\"M23 18h-14c-0.552 0-1-0.448-1-1s0.448-1 1-1h14c0.552 0 1 0.448 1 1s-0.448 1-1 1z\"></path>\n",
       "</symbol>\n",
       "</defs>\n",
       "</svg>\n",
       "<style>/* CSS stylesheet for displaying xarray objects in jupyterlab.\n",
       " *\n",
       " */\n",
       "\n",
       ":root {\n",
       "  --xr-font-color0: var(--jp-content-font-color0, rgba(0, 0, 0, 1));\n",
       "  --xr-font-color2: var(--jp-content-font-color2, rgba(0, 0, 0, 0.54));\n",
       "  --xr-font-color3: var(--jp-content-font-color3, rgba(0, 0, 0, 0.38));\n",
       "  --xr-border-color: var(--jp-border-color2, #e0e0e0);\n",
       "  --xr-disabled-color: var(--jp-layout-color3, #bdbdbd);\n",
       "  --xr-background-color: var(--jp-layout-color0, white);\n",
       "  --xr-background-color-row-even: var(--jp-layout-color1, white);\n",
       "  --xr-background-color-row-odd: var(--jp-layout-color2, #eeeeee);\n",
       "}\n",
       "\n",
       "html[theme=dark],\n",
       "body[data-theme=dark],\n",
       "body.vscode-dark {\n",
       "  --xr-font-color0: rgba(255, 255, 255, 1);\n",
       "  --xr-font-color2: rgba(255, 255, 255, 0.54);\n",
       "  --xr-font-color3: rgba(255, 255, 255, 0.38);\n",
       "  --xr-border-color: #1F1F1F;\n",
       "  --xr-disabled-color: #515151;\n",
       "  --xr-background-color: #111111;\n",
       "  --xr-background-color-row-even: #111111;\n",
       "  --xr-background-color-row-odd: #313131;\n",
       "}\n",
       "\n",
       ".xr-wrap {\n",
       "  display: block !important;\n",
       "  min-width: 300px;\n",
       "  max-width: 700px;\n",
       "}\n",
       "\n",
       ".xr-text-repr-fallback {\n",
       "  /* fallback to plain text repr when CSS is not injected (untrusted notebook) */\n",
       "  display: none;\n",
       "}\n",
       "\n",
       ".xr-header {\n",
       "  padding-top: 6px;\n",
       "  padding-bottom: 6px;\n",
       "  margin-bottom: 4px;\n",
       "  border-bottom: solid 1px var(--xr-border-color);\n",
       "}\n",
       "\n",
       ".xr-header > div,\n",
       ".xr-header > ul {\n",
       "  display: inline;\n",
       "  margin-top: 0;\n",
       "  margin-bottom: 0;\n",
       "}\n",
       "\n",
       ".xr-obj-type,\n",
       ".xr-array-name {\n",
       "  margin-left: 2px;\n",
       "  margin-right: 10px;\n",
       "}\n",
       "\n",
       ".xr-obj-type {\n",
       "  color: var(--xr-font-color2);\n",
       "}\n",
       "\n",
       ".xr-sections {\n",
       "  padding-left: 0 !important;\n",
       "  display: grid;\n",
       "  grid-template-columns: 150px auto auto 1fr 20px 20px;\n",
       "}\n",
       "\n",
       ".xr-section-item {\n",
       "  display: contents;\n",
       "}\n",
       "\n",
       ".xr-section-item input {\n",
       "  display: none;\n",
       "}\n",
       "\n",
       ".xr-section-item input + label {\n",
       "  color: var(--xr-disabled-color);\n",
       "}\n",
       "\n",
       ".xr-section-item input:enabled + label {\n",
       "  cursor: pointer;\n",
       "  color: var(--xr-font-color2);\n",
       "}\n",
       "\n",
       ".xr-section-item input:enabled + label:hover {\n",
       "  color: var(--xr-font-color0);\n",
       "}\n",
       "\n",
       ".xr-section-summary {\n",
       "  grid-column: 1;\n",
       "  color: var(--xr-font-color2);\n",
       "  font-weight: 500;\n",
       "}\n",
       "\n",
       ".xr-section-summary > span {\n",
       "  display: inline-block;\n",
       "  padding-left: 0.5em;\n",
       "}\n",
       "\n",
       ".xr-section-summary-in:disabled + label {\n",
       "  color: var(--xr-font-color2);\n",
       "}\n",
       "\n",
       ".xr-section-summary-in + label:before {\n",
       "  display: inline-block;\n",
       "  content: '►';\n",
       "  font-size: 11px;\n",
       "  width: 15px;\n",
       "  text-align: center;\n",
       "}\n",
       "\n",
       ".xr-section-summary-in:disabled + label:before {\n",
       "  color: var(--xr-disabled-color);\n",
       "}\n",
       "\n",
       ".xr-section-summary-in:checked + label:before {\n",
       "  content: '▼';\n",
       "}\n",
       "\n",
       ".xr-section-summary-in:checked + label > span {\n",
       "  display: none;\n",
       "}\n",
       "\n",
       ".xr-section-summary,\n",
       ".xr-section-inline-details {\n",
       "  padding-top: 4px;\n",
       "  padding-bottom: 4px;\n",
       "}\n",
       "\n",
       ".xr-section-inline-details {\n",
       "  grid-column: 2 / -1;\n",
       "}\n",
       "\n",
       ".xr-section-details {\n",
       "  display: none;\n",
       "  grid-column: 1 / -1;\n",
       "  margin-bottom: 5px;\n",
       "}\n",
       "\n",
       ".xr-section-summary-in:checked ~ .xr-section-details {\n",
       "  display: contents;\n",
       "}\n",
       "\n",
       ".xr-array-wrap {\n",
       "  grid-column: 1 / -1;\n",
       "  display: grid;\n",
       "  grid-template-columns: 20px auto;\n",
       "}\n",
       "\n",
       ".xr-array-wrap > label {\n",
       "  grid-column: 1;\n",
       "  vertical-align: top;\n",
       "}\n",
       "\n",
       ".xr-preview {\n",
       "  color: var(--xr-font-color3);\n",
       "}\n",
       "\n",
       ".xr-array-preview,\n",
       ".xr-array-data {\n",
       "  padding: 0 5px !important;\n",
       "  grid-column: 2;\n",
       "}\n",
       "\n",
       ".xr-array-data,\n",
       ".xr-array-in:checked ~ .xr-array-preview {\n",
       "  display: none;\n",
       "}\n",
       "\n",
       ".xr-array-in:checked ~ .xr-array-data,\n",
       ".xr-array-preview {\n",
       "  display: inline-block;\n",
       "}\n",
       "\n",
       ".xr-dim-list {\n",
       "  display: inline-block !important;\n",
       "  list-style: none;\n",
       "  padding: 0 !important;\n",
       "  margin: 0;\n",
       "}\n",
       "\n",
       ".xr-dim-list li {\n",
       "  display: inline-block;\n",
       "  padding: 0;\n",
       "  margin: 0;\n",
       "}\n",
       "\n",
       ".xr-dim-list:before {\n",
       "  content: '(';\n",
       "}\n",
       "\n",
       ".xr-dim-list:after {\n",
       "  content: ')';\n",
       "}\n",
       "\n",
       ".xr-dim-list li:not(:last-child):after {\n",
       "  content: ',';\n",
       "  padding-right: 5px;\n",
       "}\n",
       "\n",
       ".xr-has-index {\n",
       "  font-weight: bold;\n",
       "}\n",
       "\n",
       ".xr-var-list,\n",
       ".xr-var-item {\n",
       "  display: contents;\n",
       "}\n",
       "\n",
       ".xr-var-item > div,\n",
       ".xr-var-item label,\n",
       ".xr-var-item > .xr-var-name span {\n",
       "  background-color: var(--xr-background-color-row-even);\n",
       "  margin-bottom: 0;\n",
       "}\n",
       "\n",
       ".xr-var-item > .xr-var-name:hover span {\n",
       "  padding-right: 5px;\n",
       "}\n",
       "\n",
       ".xr-var-list > li:nth-child(odd) > div,\n",
       ".xr-var-list > li:nth-child(odd) > label,\n",
       ".xr-var-list > li:nth-child(odd) > .xr-var-name span {\n",
       "  background-color: var(--xr-background-color-row-odd);\n",
       "}\n",
       "\n",
       ".xr-var-name {\n",
       "  grid-column: 1;\n",
       "}\n",
       "\n",
       ".xr-var-dims {\n",
       "  grid-column: 2;\n",
       "}\n",
       "\n",
       ".xr-var-dtype {\n",
       "  grid-column: 3;\n",
       "  text-align: right;\n",
       "  color: var(--xr-font-color2);\n",
       "}\n",
       "\n",
       ".xr-var-preview {\n",
       "  grid-column: 4;\n",
       "}\n",
       "\n",
       ".xr-index-preview {\n",
       "  grid-column: 2 / 5;\n",
       "  color: var(--xr-font-color2);\n",
       "}\n",
       "\n",
       ".xr-var-name,\n",
       ".xr-var-dims,\n",
       ".xr-var-dtype,\n",
       ".xr-preview,\n",
       ".xr-attrs dt {\n",
       "  white-space: nowrap;\n",
       "  overflow: hidden;\n",
       "  text-overflow: ellipsis;\n",
       "  padding-right: 10px;\n",
       "}\n",
       "\n",
       ".xr-var-name:hover,\n",
       ".xr-var-dims:hover,\n",
       ".xr-var-dtype:hover,\n",
       ".xr-attrs dt:hover {\n",
       "  overflow: visible;\n",
       "  width: auto;\n",
       "  z-index: 1;\n",
       "}\n",
       "\n",
       ".xr-var-attrs,\n",
       ".xr-var-data,\n",
       ".xr-index-data {\n",
       "  display: none;\n",
       "  background-color: var(--xr-background-color) !important;\n",
       "  padding-bottom: 5px !important;\n",
       "}\n",
       "\n",
       ".xr-var-attrs-in:checked ~ .xr-var-attrs,\n",
       ".xr-var-data-in:checked ~ .xr-var-data,\n",
       ".xr-index-data-in:checked ~ .xr-index-data {\n",
       "  display: block;\n",
       "}\n",
       "\n",
       ".xr-var-data > table {\n",
       "  float: right;\n",
       "}\n",
       "\n",
       ".xr-var-name span,\n",
       ".xr-var-data,\n",
       ".xr-index-name div,\n",
       ".xr-index-data,\n",
       ".xr-attrs {\n",
       "  padding-left: 25px !important;\n",
       "}\n",
       "\n",
       ".xr-attrs,\n",
       ".xr-var-attrs,\n",
       ".xr-var-data,\n",
       ".xr-index-data {\n",
       "  grid-column: 1 / -1;\n",
       "}\n",
       "\n",
       "dl.xr-attrs {\n",
       "  padding: 0;\n",
       "  margin: 0;\n",
       "  display: grid;\n",
       "  grid-template-columns: 125px auto;\n",
       "}\n",
       "\n",
       ".xr-attrs dt,\n",
       ".xr-attrs dd {\n",
       "  padding: 0;\n",
       "  margin: 0;\n",
       "  float: left;\n",
       "  padding-right: 10px;\n",
       "  width: auto;\n",
       "}\n",
       "\n",
       ".xr-attrs dt {\n",
       "  font-weight: normal;\n",
       "  grid-column: 1;\n",
       "}\n",
       "\n",
       ".xr-attrs dt:hover span {\n",
       "  display: inline-block;\n",
       "  background: var(--xr-background-color);\n",
       "  padding-right: 10px;\n",
       "}\n",
       "\n",
       ".xr-attrs dd {\n",
       "  grid-column: 2;\n",
       "  white-space: pre-wrap;\n",
       "  word-break: break-all;\n",
       "}\n",
       "\n",
       ".xr-icon-database,\n",
       ".xr-icon-file-text2,\n",
       ".xr-no-icon {\n",
       "  display: inline-block;\n",
       "  vertical-align: middle;\n",
       "  width: 1em;\n",
       "  height: 1.5em !important;\n",
       "  stroke-width: 0;\n",
       "  stroke: currentColor;\n",
       "  fill: currentColor;\n",
       "}\n",
       "</style><pre class='xr-text-repr-fallback'>&lt;xarray.Dataset&gt;\n",
       "Dimensions:      (x: 5, y: 5, id: 69, lead: 80)\n",
       "Coordinates:\n",
       "  * x            (x) int64 0 1 2 3 4\n",
       "  * y            (y) int64 0 1 2 3 4\n",
       "    time         (id, lead) datetime64[ns] ...\n",
       "    level        int32 ...\n",
       "  * lead         (lead) int64 0 6 12 18 24 30 36 ... 438 444 450 456 462 468 474\n",
       "  * id           (id) float64 0.0 1.0 1.5 1.667 2.0 ... 42.0 43.0 44.0 45.0 46.0\n",
       "Data variables:\n",
       "    r            (id, lead, y, x) float32 ...\n",
       "    sp           (id, lead, y, x) float32 ...\n",
       "    speed_shear  (id, lead, y, x) float32 ...\n",
       "    sst          (id, lead, y, x) float64 ...\n",
       "    u            (id, lead, y, x) float32 ...\n",
       "    v            (id, lead, y, x) float32 ...\n",
       "    vo           (id, lead, y, x) float32 ...\n",
       "    rand_arr     (id, lead, y, x) float64 ...\n",
       "    cor_params   (id, lead, y, x) float64 ...\n",
       "    target       (id, lead) float64 ...</pre><div class='xr-wrap' style='display:none'><div class='xr-header'><div class='xr-obj-type'>xarray.Dataset</div></div><ul class='xr-sections'><li class='xr-section-item'><input id='section-1fe03b43-9051-4eb0-a79f-ac8ebca42566' class='xr-section-summary-in' type='checkbox' disabled ><label for='section-1fe03b43-9051-4eb0-a79f-ac8ebca42566' class='xr-section-summary'  title='Expand/collapse section'>Dimensions:</label><div class='xr-section-inline-details'><ul class='xr-dim-list'><li><span class='xr-has-index'>x</span>: 5</li><li><span class='xr-has-index'>y</span>: 5</li><li><span class='xr-has-index'>id</span>: 69</li><li><span class='xr-has-index'>lead</span>: 80</li></ul></div><div class='xr-section-details'></div></li><li class='xr-section-item'><input id='section-f123e3ea-0f90-49aa-abee-408801956439' class='xr-section-summary-in' type='checkbox'  checked><label for='section-f123e3ea-0f90-49aa-abee-408801956439' class='xr-section-summary' >Coordinates: <span>(6)</span></label><div class='xr-section-inline-details'></div><div class='xr-section-details'><ul class='xr-var-list'><li class='xr-var-item'><div class='xr-var-name'><span class='xr-has-index'>x</span></div><div class='xr-var-dims'>(x)</div><div class='xr-var-dtype'>int64</div><div class='xr-var-preview xr-preview'>0 1 2 3 4</div><input id='attrs-d0707c31-2a22-465a-8c18-52d709341d4b' class='xr-var-attrs-in' type='checkbox' disabled><label for='attrs-d0707c31-2a22-465a-8c18-52d709341d4b' title='Show/Hide attributes'><svg class='icon xr-icon-file-text2'><use xlink:href='#icon-file-text2'></use></svg></label><input id='data-8fdb7e57-4255-4f35-b486-616a334709e3' class='xr-var-data-in' type='checkbox'><label for='data-8fdb7e57-4255-4f35-b486-616a334709e3' title='Show/Hide data repr'><svg class='icon xr-icon-database'><use xlink:href='#icon-database'></use></svg></label><div class='xr-var-attrs'><dl class='xr-attrs'></dl></div><div class='xr-var-data'><pre>array([0, 1, 2, 3, 4])</pre></div></li><li class='xr-var-item'><div class='xr-var-name'><span class='xr-has-index'>y</span></div><div class='xr-var-dims'>(y)</div><div class='xr-var-dtype'>int64</div><div class='xr-var-preview xr-preview'>0 1 2 3 4</div><input id='attrs-bbbbb461-b4de-439b-9b46-0572158dba7f' class='xr-var-attrs-in' type='checkbox' disabled><label for='attrs-bbbbb461-b4de-439b-9b46-0572158dba7f' title='Show/Hide attributes'><svg class='icon xr-icon-file-text2'><use xlink:href='#icon-file-text2'></use></svg></label><input id='data-5871cf76-0e30-4d31-b8e4-9d2631fd4cf7' class='xr-var-data-in' type='checkbox'><label for='data-5871cf76-0e30-4d31-b8e4-9d2631fd4cf7' title='Show/Hide data repr'><svg class='icon xr-icon-database'><use xlink:href='#icon-database'></use></svg></label><div class='xr-var-attrs'><dl class='xr-attrs'></dl></div><div class='xr-var-data'><pre>array([0, 1, 2, 3, 4])</pre></div></li><li class='xr-var-item'><div class='xr-var-name'><span>time</span></div><div class='xr-var-dims'>(id, lead)</div><div class='xr-var-dtype'>datetime64[ns]</div><div class='xr-var-preview xr-preview'>...</div><input id='attrs-6918eb41-1163-410e-bb60-014e37cc5da6' class='xr-var-attrs-in' type='checkbox' disabled><label for='attrs-6918eb41-1163-410e-bb60-014e37cc5da6' title='Show/Hide attributes'><svg class='icon xr-icon-file-text2'><use xlink:href='#icon-file-text2'></use></svg></label><input id='data-d896c2b0-e128-4b65-aa8a-c41c64693dcd' class='xr-var-data-in' type='checkbox'><label for='data-d896c2b0-e128-4b65-aa8a-c41c64693dcd' title='Show/Hide data repr'><svg class='icon xr-icon-database'><use xlink:href='#icon-database'></use></svg></label><div class='xr-var-attrs'><dl class='xr-attrs'></dl></div><div class='xr-var-data'><pre>[5520 values with dtype=datetime64[ns]]</pre></div></li><li class='xr-var-item'><div class='xr-var-name'><span>level</span></div><div class='xr-var-dims'>()</div><div class='xr-var-dtype'>int32</div><div class='xr-var-preview xr-preview'>...</div><input id='attrs-40725d01-e828-4b59-94f5-a73bf9268644' class='xr-var-attrs-in' type='checkbox' disabled><label for='attrs-40725d01-e828-4b59-94f5-a73bf9268644' title='Show/Hide attributes'><svg class='icon xr-icon-file-text2'><use xlink:href='#icon-file-text2'></use></svg></label><input id='data-c5683580-d749-44fe-9bcb-167898832f12' class='xr-var-data-in' type='checkbox'><label for='data-c5683580-d749-44fe-9bcb-167898832f12' title='Show/Hide data repr'><svg class='icon xr-icon-database'><use xlink:href='#icon-database'></use></svg></label><div class='xr-var-attrs'><dl class='xr-attrs'></dl></div><div class='xr-var-data'><pre>[1 values with dtype=int32]</pre></div></li><li class='xr-var-item'><div class='xr-var-name'><span class='xr-has-index'>lead</span></div><div class='xr-var-dims'>(lead)</div><div class='xr-var-dtype'>int64</div><div class='xr-var-preview xr-preview'>0 6 12 18 24 ... 456 462 468 474</div><input id='attrs-254070c4-8c4c-4529-a8c3-96f4a465b4b1' class='xr-var-attrs-in' type='checkbox' disabled><label for='attrs-254070c4-8c4c-4529-a8c3-96f4a465b4b1' title='Show/Hide attributes'><svg class='icon xr-icon-file-text2'><use xlink:href='#icon-file-text2'></use></svg></label><input id='data-68dc2799-c824-48c1-aa09-48223099a505' class='xr-var-data-in' type='checkbox'><label for='data-68dc2799-c824-48c1-aa09-48223099a505' title='Show/Hide data repr'><svg class='icon xr-icon-database'><use xlink:href='#icon-database'></use></svg></label><div class='xr-var-attrs'><dl class='xr-attrs'></dl></div><div class='xr-var-data'><pre>array([  0,   6,  12,  18,  24,  30,  36,  42,  48,  54,  60,  66,  72,  78,\n",
       "        84,  90,  96, 102, 108, 114, 120, 126, 132, 138, 144, 150, 156, 162,\n",
       "       168, 174, 180, 186, 192, 198, 204, 210, 216, 222, 228, 234, 240, 246,\n",
       "       252, 258, 264, 270, 276, 282, 288, 294, 300, 306, 312, 318, 324, 330,\n",
       "       336, 342, 348, 354, 360, 366, 372, 378, 384, 390, 396, 402, 408, 414,\n",
       "       420, 426, 432, 438, 444, 450, 456, 462, 468, 474])</pre></div></li><li class='xr-var-item'><div class='xr-var-name'><span class='xr-has-index'>id</span></div><div class='xr-var-dims'>(id)</div><div class='xr-var-dtype'>float64</div><div class='xr-var-preview xr-preview'>0.0 1.0 1.5 ... 44.0 45.0 46.0</div><input id='attrs-5cd675a0-cbb5-43dd-ae3a-a401c15ab451' class='xr-var-attrs-in' type='checkbox' disabled><label for='attrs-5cd675a0-cbb5-43dd-ae3a-a401c15ab451' title='Show/Hide attributes'><svg class='icon xr-icon-file-text2'><use xlink:href='#icon-file-text2'></use></svg></label><input id='data-86cf7d6c-736d-4a78-8820-51afc4a63ff7' class='xr-var-data-in' type='checkbox'><label for='data-86cf7d6c-736d-4a78-8820-51afc4a63ff7' title='Show/Hide data repr'><svg class='icon xr-icon-database'><use xlink:href='#icon-database'></use></svg></label><div class='xr-var-attrs'><dl class='xr-attrs'></dl></div><div class='xr-var-data'><pre>array([ 0.      ,  1.      ,  1.5     ,  1.666667,  2.      ,  3.      ,\n",
       "        4.      ,  5.      ,  5.5     ,  6.      ,  6.5     ,  6.666667,\n",
       "        7.      ,  8.      ,  9.      ,  9.5     ,  9.666667, 10.      ,\n",
       "       11.      , 12.      , 13.      , 14.      , 15.      , 16.      ,\n",
       "       17.      , 17.333333, 17.5     , 17.6     , 19.      , 20.      ,\n",
       "       21.      , 22.      , 22.5     , 22.666667, 23.      , 23.333333,\n",
       "       23.5     , 25.      , 26.      , 27.      , 28.      , 29.5     ,\n",
       "       29.666667, 30.      , 31.      , 31.666667, 32.      , 32.4     ,\n",
       "       32.5     , 33.      , 34.      , 34.5     , 34.666667, 35.      ,\n",
       "       36.      , 37.      , 38.      , 38.5     , 38.666667, 39.      ,\n",
       "       40.      , 40.5     , 40.666667, 41.      , 42.      , 43.      ,\n",
       "       44.      , 45.      , 46.      ])</pre></div></li></ul></div></li><li class='xr-section-item'><input id='section-92bd2c2d-4bb5-4e0f-a875-4a0125515b6e' class='xr-section-summary-in' type='checkbox'  checked><label for='section-92bd2c2d-4bb5-4e0f-a875-4a0125515b6e' class='xr-section-summary' >Data variables: <span>(10)</span></label><div class='xr-section-inline-details'></div><div class='xr-section-details'><ul class='xr-var-list'><li class='xr-var-item'><div class='xr-var-name'><span>r</span></div><div class='xr-var-dims'>(id, lead, y, x)</div><div class='xr-var-dtype'>float32</div><div class='xr-var-preview xr-preview'>...</div><input id='attrs-5fbb24a6-f37e-4f60-b48f-df6527c00bc2' class='xr-var-attrs-in' type='checkbox' disabled><label for='attrs-5fbb24a6-f37e-4f60-b48f-df6527c00bc2' title='Show/Hide attributes'><svg class='icon xr-icon-file-text2'><use xlink:href='#icon-file-text2'></use></svg></label><input id='data-dcfe8bae-406a-4d0e-b0b0-60bd51d7e480' class='xr-var-data-in' type='checkbox'><label for='data-dcfe8bae-406a-4d0e-b0b0-60bd51d7e480' title='Show/Hide data repr'><svg class='icon xr-icon-database'><use xlink:href='#icon-database'></use></svg></label><div class='xr-var-attrs'><dl class='xr-attrs'></dl></div><div class='xr-var-data'><pre>[138000 values with dtype=float32]</pre></div></li><li class='xr-var-item'><div class='xr-var-name'><span>sp</span></div><div class='xr-var-dims'>(id, lead, y, x)</div><div class='xr-var-dtype'>float32</div><div class='xr-var-preview xr-preview'>...</div><input id='attrs-aa2d3711-a70b-498a-aaea-f952505e4c85' class='xr-var-attrs-in' type='checkbox' disabled><label for='attrs-aa2d3711-a70b-498a-aaea-f952505e4c85' title='Show/Hide attributes'><svg class='icon xr-icon-file-text2'><use xlink:href='#icon-file-text2'></use></svg></label><input id='data-653cefd5-e130-40ac-9819-16378acd8bcb' class='xr-var-data-in' type='checkbox'><label for='data-653cefd5-e130-40ac-9819-16378acd8bcb' title='Show/Hide data repr'><svg class='icon xr-icon-database'><use xlink:href='#icon-database'></use></svg></label><div class='xr-var-attrs'><dl class='xr-attrs'></dl></div><div class='xr-var-data'><pre>[138000 values with dtype=float32]</pre></div></li><li class='xr-var-item'><div class='xr-var-name'><span>speed_shear</span></div><div class='xr-var-dims'>(id, lead, y, x)</div><div class='xr-var-dtype'>float32</div><div class='xr-var-preview xr-preview'>...</div><input id='attrs-0087d623-bcb5-4969-961c-af1d60360ccf' class='xr-var-attrs-in' type='checkbox' disabled><label for='attrs-0087d623-bcb5-4969-961c-af1d60360ccf' title='Show/Hide attributes'><svg class='icon xr-icon-file-text2'><use xlink:href='#icon-file-text2'></use></svg></label><input id='data-412ba160-f68f-4993-b6c3-3a72a8f926f2' class='xr-var-data-in' type='checkbox'><label for='data-412ba160-f68f-4993-b6c3-3a72a8f926f2' title='Show/Hide data repr'><svg class='icon xr-icon-database'><use xlink:href='#icon-database'></use></svg></label><div class='xr-var-attrs'><dl class='xr-attrs'></dl></div><div class='xr-var-data'><pre>[138000 values with dtype=float32]</pre></div></li><li class='xr-var-item'><div class='xr-var-name'><span>sst</span></div><div class='xr-var-dims'>(id, lead, y, x)</div><div class='xr-var-dtype'>float64</div><div class='xr-var-preview xr-preview'>...</div><input id='attrs-ac1054ee-abd5-475d-8faa-7121af729f1f' class='xr-var-attrs-in' type='checkbox' disabled><label for='attrs-ac1054ee-abd5-475d-8faa-7121af729f1f' title='Show/Hide attributes'><svg class='icon xr-icon-file-text2'><use xlink:href='#icon-file-text2'></use></svg></label><input id='data-0e62a62e-0525-4212-b41b-36ee6dff9b7e' class='xr-var-data-in' type='checkbox'><label for='data-0e62a62e-0525-4212-b41b-36ee6dff9b7e' title='Show/Hide data repr'><svg class='icon xr-icon-database'><use xlink:href='#icon-database'></use></svg></label><div class='xr-var-attrs'><dl class='xr-attrs'></dl></div><div class='xr-var-data'><pre>[138000 values with dtype=float64]</pre></div></li><li class='xr-var-item'><div class='xr-var-name'><span>u</span></div><div class='xr-var-dims'>(id, lead, y, x)</div><div class='xr-var-dtype'>float32</div><div class='xr-var-preview xr-preview'>...</div><input id='attrs-9aaacf55-dc6d-48d9-a54f-ad1b727371aa' class='xr-var-attrs-in' type='checkbox' disabled><label for='attrs-9aaacf55-dc6d-48d9-a54f-ad1b727371aa' title='Show/Hide attributes'><svg class='icon xr-icon-file-text2'><use xlink:href='#icon-file-text2'></use></svg></label><input id='data-d0fb67e0-17de-4251-bbf2-5c9aab36d9e2' class='xr-var-data-in' type='checkbox'><label for='data-d0fb67e0-17de-4251-bbf2-5c9aab36d9e2' title='Show/Hide data repr'><svg class='icon xr-icon-database'><use xlink:href='#icon-database'></use></svg></label><div class='xr-var-attrs'><dl class='xr-attrs'></dl></div><div class='xr-var-data'><pre>[138000 values with dtype=float32]</pre></div></li><li class='xr-var-item'><div class='xr-var-name'><span>v</span></div><div class='xr-var-dims'>(id, lead, y, x)</div><div class='xr-var-dtype'>float32</div><div class='xr-var-preview xr-preview'>...</div><input id='attrs-a982f5fa-75a0-453f-a769-72874b913bea' class='xr-var-attrs-in' type='checkbox' disabled><label for='attrs-a982f5fa-75a0-453f-a769-72874b913bea' title='Show/Hide attributes'><svg class='icon xr-icon-file-text2'><use xlink:href='#icon-file-text2'></use></svg></label><input id='data-af2c058f-7ac2-4827-b3ad-27396c843eb8' class='xr-var-data-in' type='checkbox'><label for='data-af2c058f-7ac2-4827-b3ad-27396c843eb8' title='Show/Hide data repr'><svg class='icon xr-icon-database'><use xlink:href='#icon-database'></use></svg></label><div class='xr-var-attrs'><dl class='xr-attrs'></dl></div><div class='xr-var-data'><pre>[138000 values with dtype=float32]</pre></div></li><li class='xr-var-item'><div class='xr-var-name'><span>vo</span></div><div class='xr-var-dims'>(id, lead, y, x)</div><div class='xr-var-dtype'>float32</div><div class='xr-var-preview xr-preview'>...</div><input id='attrs-c402e4f6-85fc-4d96-9f30-fef85c98fe15' class='xr-var-attrs-in' type='checkbox' disabled><label for='attrs-c402e4f6-85fc-4d96-9f30-fef85c98fe15' title='Show/Hide attributes'><svg class='icon xr-icon-file-text2'><use xlink:href='#icon-file-text2'></use></svg></label><input id='data-ac04b5b2-d76b-41d3-a36b-335e273b2372' class='xr-var-data-in' type='checkbox'><label for='data-ac04b5b2-d76b-41d3-a36b-335e273b2372' title='Show/Hide data repr'><svg class='icon xr-icon-database'><use xlink:href='#icon-database'></use></svg></label><div class='xr-var-attrs'><dl class='xr-attrs'></dl></div><div class='xr-var-data'><pre>[138000 values with dtype=float32]</pre></div></li><li class='xr-var-item'><div class='xr-var-name'><span>rand_arr</span></div><div class='xr-var-dims'>(id, lead, y, x)</div><div class='xr-var-dtype'>float64</div><div class='xr-var-preview xr-preview'>...</div><input id='attrs-fb906c83-ff50-40bb-b2d9-bb4f1d6932b8' class='xr-var-attrs-in' type='checkbox' disabled><label for='attrs-fb906c83-ff50-40bb-b2d9-bb4f1d6932b8' title='Show/Hide attributes'><svg class='icon xr-icon-file-text2'><use xlink:href='#icon-file-text2'></use></svg></label><input id='data-fe0c1fff-b0a6-4b31-b5c2-cb631041eac4' class='xr-var-data-in' type='checkbox'><label for='data-fe0c1fff-b0a6-4b31-b5c2-cb631041eac4' title='Show/Hide data repr'><svg class='icon xr-icon-database'><use xlink:href='#icon-database'></use></svg></label><div class='xr-var-attrs'><dl class='xr-attrs'></dl></div><div class='xr-var-data'><pre>[138000 values with dtype=float64]</pre></div></li><li class='xr-var-item'><div class='xr-var-name'><span>cor_params</span></div><div class='xr-var-dims'>(id, lead, y, x)</div><div class='xr-var-dtype'>float64</div><div class='xr-var-preview xr-preview'>...</div><input id='attrs-9bdebadb-9237-4e06-99e2-050b53b1abe3' class='xr-var-attrs-in' type='checkbox' disabled><label for='attrs-9bdebadb-9237-4e06-99e2-050b53b1abe3' title='Show/Hide attributes'><svg class='icon xr-icon-file-text2'><use xlink:href='#icon-file-text2'></use></svg></label><input id='data-aac2f672-e778-4163-917b-626c60f44e30' class='xr-var-data-in' type='checkbox'><label for='data-aac2f672-e778-4163-917b-626c60f44e30' title='Show/Hide data repr'><svg class='icon xr-icon-database'><use xlink:href='#icon-database'></use></svg></label><div class='xr-var-attrs'><dl class='xr-attrs'></dl></div><div class='xr-var-data'><pre>[138000 values with dtype=float64]</pre></div></li><li class='xr-var-item'><div class='xr-var-name'><span>target</span></div><div class='xr-var-dims'>(id, lead)</div><div class='xr-var-dtype'>float64</div><div class='xr-var-preview xr-preview'>...</div><input id='attrs-585b68ee-85cd-4d6a-9d24-2aac69702775' class='xr-var-attrs-in' type='checkbox' disabled><label for='attrs-585b68ee-85cd-4d6a-9d24-2aac69702775' title='Show/Hide attributes'><svg class='icon xr-icon-file-text2'><use xlink:href='#icon-file-text2'></use></svg></label><input id='data-6d56a377-dc71-4f35-aff9-1ae2b5b90f0f' class='xr-var-data-in' type='checkbox'><label for='data-6d56a377-dc71-4f35-aff9-1ae2b5b90f0f' title='Show/Hide data repr'><svg class='icon xr-icon-database'><use xlink:href='#icon-database'></use></svg></label><div class='xr-var-attrs'><dl class='xr-attrs'></dl></div><div class='xr-var-data'><pre>[5520 values with dtype=float64]</pre></div></li></ul></div></li><li class='xr-section-item'><input id='section-66536099-1854-4143-ade4-fc3ae1343acb' class='xr-section-summary-in' type='checkbox'  ><label for='section-66536099-1854-4143-ade4-fc3ae1343acb' class='xr-section-summary' >Indexes: <span>(4)</span></label><div class='xr-section-inline-details'></div><div class='xr-section-details'><ul class='xr-var-list'><li class='xr-var-item'><div class='xr-index-name'><div>x</div></div><div class='xr-index-preview'>PandasIndex</div><div></div><input id='index-98477cf8-eb6e-4a81-adef-35a8b56c9e56' class='xr-index-data-in' type='checkbox'/><label for='index-98477cf8-eb6e-4a81-adef-35a8b56c9e56' title='Show/Hide index repr'><svg class='icon xr-icon-database'><use xlink:href='#icon-database'></use></svg></label><div class='xr-index-data'><pre>PandasIndex(Index([0, 1, 2, 3, 4], dtype=&#x27;int64&#x27;, name=&#x27;x&#x27;))</pre></div></li><li class='xr-var-item'><div class='xr-index-name'><div>y</div></div><div class='xr-index-preview'>PandasIndex</div><div></div><input id='index-d53486ca-1dcd-46f1-bad2-33bfc2718e34' class='xr-index-data-in' type='checkbox'/><label for='index-d53486ca-1dcd-46f1-bad2-33bfc2718e34' title='Show/Hide index repr'><svg class='icon xr-icon-database'><use xlink:href='#icon-database'></use></svg></label><div class='xr-index-data'><pre>PandasIndex(Index([0, 1, 2, 3, 4], dtype=&#x27;int64&#x27;, name=&#x27;y&#x27;))</pre></div></li><li class='xr-var-item'><div class='xr-index-name'><div>lead</div></div><div class='xr-index-preview'>PandasIndex</div><div></div><input id='index-8ad82532-6d79-462b-b0da-fce9d5d25475' class='xr-index-data-in' type='checkbox'/><label for='index-8ad82532-6d79-462b-b0da-fce9d5d25475' title='Show/Hide index repr'><svg class='icon xr-icon-database'><use xlink:href='#icon-database'></use></svg></label><div class='xr-index-data'><pre>PandasIndex(Index([  0,   6,  12,  18,  24,  30,  36,  42,  48,  54,  60,  66,  72,  78,\n",
       "        84,  90,  96, 102, 108, 114, 120, 126, 132, 138, 144, 150, 156, 162,\n",
       "       168, 174, 180, 186, 192, 198, 204, 210, 216, 222, 228, 234, 240, 246,\n",
       "       252, 258, 264, 270, 276, 282, 288, 294, 300, 306, 312, 318, 324, 330,\n",
       "       336, 342, 348, 354, 360, 366, 372, 378, 384, 390, 396, 402, 408, 414,\n",
       "       420, 426, 432, 438, 444, 450, 456, 462, 468, 474],\n",
       "      dtype=&#x27;int64&#x27;, name=&#x27;lead&#x27;))</pre></div></li><li class='xr-var-item'><div class='xr-index-name'><div>id</div></div><div class='xr-index-preview'>PandasIndex</div><div></div><input id='index-0ed921f0-051b-4a0b-8c25-2a029dc4d5f1' class='xr-index-data-in' type='checkbox'/><label for='index-0ed921f0-051b-4a0b-8c25-2a029dc4d5f1' title='Show/Hide index repr'><svg class='icon xr-icon-database'><use xlink:href='#icon-database'></use></svg></label><div class='xr-index-data'><pre>PandasIndex(Index([               0.0,                1.0,                1.5,\n",
       "       1.6666666666666667,                2.0,                3.0,\n",
       "                      4.0,                5.0,                5.5,\n",
       "                      6.0,                6.5,  6.666666666666667,\n",
       "                      7.0,                8.0,                9.0,\n",
       "                      9.5,  9.666666666666666,               10.0,\n",
       "                     11.0,               12.0,               13.0,\n",
       "                     14.0,               15.0,               16.0,\n",
       "                     17.0, 17.333333333333332,               17.5,\n",
       "                     17.6,               19.0,               20.0,\n",
       "                     21.0,               22.0,               22.5,\n",
       "       22.666666666666668,               23.0, 23.333333333333332,\n",
       "                     23.5,               25.0,               26.0,\n",
       "                     27.0,               28.0,               29.5,\n",
       "       29.666666666666668,               30.0,               31.0,\n",
       "       31.666666666666668,               32.0,               32.4,\n",
       "                     32.5,               33.0,               34.0,\n",
       "                     34.5, 34.666666666666664,               35.0,\n",
       "                     36.0,               37.0,               38.0,\n",
       "                     38.5, 38.666666666666664,               39.0,\n",
       "                     40.0,               40.5, 40.666666666666664,\n",
       "                     41.0,               42.0,               43.0,\n",
       "                     44.0,               45.0,               46.0],\n",
       "      dtype=&#x27;float64&#x27;, name=&#x27;id&#x27;))</pre></div></li></ul></div></li><li class='xr-section-item'><input id='section-2b37fe2d-6846-48b3-bd10-6cd787cf14a8' class='xr-section-summary-in' type='checkbox' disabled ><label for='section-2b37fe2d-6846-48b3-bd10-6cd787cf14a8' class='xr-section-summary'  title='Expand/collapse section'>Attributes: <span>(0)</span></label><div class='xr-section-inline-details'></div><div class='xr-section-details'><dl class='xr-attrs'></dl></div></li></ul></div></div>"
      ],
      "text/plain": [
       "<xarray.Dataset>\n",
       "Dimensions:      (x: 5, y: 5, id: 69, lead: 80)\n",
       "Coordinates:\n",
       "  * x            (x) int64 0 1 2 3 4\n",
       "  * y            (y) int64 0 1 2 3 4\n",
       "    time         (id, lead) datetime64[ns] ...\n",
       "    level        int32 ...\n",
       "  * lead         (lead) int64 0 6 12 18 24 30 36 ... 438 444 450 456 462 468 474\n",
       "  * id           (id) float64 0.0 1.0 1.5 1.667 2.0 ... 42.0 43.0 44.0 45.0 46.0\n",
       "Data variables:\n",
       "    r            (id, lead, y, x) float32 ...\n",
       "    sp           (id, lead, y, x) float32 ...\n",
       "    speed_shear  (id, lead, y, x) float32 ...\n",
       "    sst          (id, lead, y, x) float64 ...\n",
       "    u            (id, lead, y, x) float32 ...\n",
       "    v            (id, lead, y, x) float32 ...\n",
       "    vo           (id, lead, y, x) float32 ...\n",
       "    rand_arr     (id, lead, y, x) float64 ...\n",
       "    cor_params   (id, lead, y, x) float64 ...\n",
       "    target       (id, lead) float64 ..."
      ]
     },
     "execution_count": 132,
     "metadata": {},
     "output_type": "execute_result"
    }
   ],
   "source": [
    "# load the preprocessed dataset\n",
    "model_input = xr.open_dataset('../test_folder/input_predictands.nc')\n",
    "model_input\n"
   ]
  },
  {
   "cell_type": "markdown",
   "metadata": {},
   "source": [
    "### Input Data prerpocessing steps\n",
    "- Nan and padded values will be set to zero\n",
    "- Set the train and test split\n",
    "- normalize using the MinMaxScaler\n",
    "- random shuffle for generalization\n"
   ]
  },
  {
   "cell_type": "code",
   "execution_count": 134,
   "metadata": {},
   "outputs": [
    {
     "name": "stdout",
     "output_type": "stream",
     "text": [
      "Dimensions are , features: 7, Event: 69, time(lead): 80, lat: 5, lon: 5\n",
      "X_data dimensions are: Event: 69, time(lead): 80, lat: 5, lon: 5, features: 7\n"
     ]
    }
   ],
   "source": [
    "# remove the nan values and set it \n",
    "model_input = model_input.fillna(0)\n",
    "\n",
    "# selecting the predictors (X) and expanding the dimensions\n",
    "\n",
    "X_data = model_input[['u','v','vo','speed_shear','sp','r','cor_params']].to_array(dim='variable')\n",
    "\n",
    "print(f'Dimensions are , features: {X_data.shape[0]}, Event: {X_data.shape[1]}, time(lead): {X_data.shape[2]}, lat: {X_data.shape[3]}, lon: {X_data.shape[4]}')\n",
    "\n",
    "X_data = X_data.transpose('id', 'lead', 'y','x','variable')\n",
    "\n",
    "print(f'X_data dimensions are: Event: {X_data.shape[0]}, time(lead): {X_data.shape[1]}, lat: {X_data.shape[2]}, lon: {X_data.shape[3]}, features: {X_data.shape[4]}')"
   ]
  },
  {
   "cell_type": "code",
   "execution_count": 135,
   "metadata": {},
   "outputs": [
    {
     "name": "stdout",
     "output_type": "stream",
     "text": [
      "Target dimensions are: Event: 69, time(lead): 80\n"
     ]
    }
   ],
   "source": [
    "# selecting the target variable (y)\n",
    "Y_data = model_input['target']\n",
    "\n",
    "# expanded the dimensions of Y_data to match the expected input shape for the model\n",
    "#Y_data = np.expand_dims(Y_data, axis=-1)\n",
    "\n",
    "print(f'Target dimensions are: Event: {Y_data.shape[0]}, time(lead): {Y_data.shape[1]}')"
   ]
  },
  {
   "cell_type": "code",
   "execution_count": 136,
   "metadata": {},
   "outputs": [],
   "source": [
    "## 80% train and 20% test split\n",
    "\n",
    "## random shuffled the events and split the data into training and testing sets\n",
    "X_train , X_test , Y_train, Y_test = train_test_split(X_data, Y_data, test_size=0.2, random_state=1)\n",
    "\n",
    "\n",
    "X_train_data = X_train.values\n",
    "X_test_data = X_test.values\n",
    "Y_train_data = Y_train.values\n",
    "Y_test_data = Y_test.values\n",
    "\n",
    "\n"
   ]
  },
  {
   "cell_type": "code",
   "execution_count": 143,
   "metadata": {},
   "outputs": [],
   "source": [
    "x_train_scaler = MinMaxScaler()\n",
    "x_test_scaler = MinMaxScaler()\n",
    "\n",
    "y_train_scaler = MinMaxScaler()\n",
    "y_test_scaler = MinMaxScaler()"
   ]
  },
  {
   "cell_type": "code",
   "execution_count": 144,
   "metadata": {},
   "outputs": [],
   "source": [
    "X_train_scaled = x_train_scaler.fit_transform(X_train_data.reshape(-1, X_train_data.shape[-1])).reshape(X_train_data.shape)\n",
    "Y_train_scaled = y_train_scaler.fit_transform(Y_train_data.reshape(-1,1)).reshape(Y_train_data.shape)\n",
    "\n",
    "X_test_scaled = x_test_scaler.fit_transform(X_test_data.reshape(-1, X_test_data.shape[-1])).reshape(X_test_data.shape)\n",
    "Y_test_scaled = y_test_scaler.fit_transform(Y_test_data.reshape(-1,1)).reshape(Y_test_data.shape)\n"
   ]
  },
  {
   "cell_type": "code",
   "execution_count": 145,
   "metadata": {},
   "outputs": [
    {
     "name": "stderr",
     "output_type": "stream",
     "text": [
      "/Users/nalex2023/miniconda3/envs/nma/lib/python3.12/site-packages/keras/src/layers/core/wrapper.py:27: UserWarning: Do not pass an `input_shape`/`input_dim` argument to a layer. When using Sequential models, prefer using an `Input(shape)` object as the first layer in the model instead.\n",
      "  super().__init__(**kwargs)\n"
     ]
    },
    {
     "data": {
      "text/html": [
       "<pre style=\"white-space:pre;overflow-x:auto;line-height:normal;font-family:Menlo,'DejaVu Sans Mono',consolas,'Courier New',monospace\"><span style=\"font-weight: bold\">Model: \"sequential_2\"</span>\n",
       "</pre>\n"
      ],
      "text/plain": [
       "\u001b[1mModel: \"sequential_2\"\u001b[0m\n"
      ]
     },
     "metadata": {},
     "output_type": "display_data"
    },
    {
     "data": {
      "text/html": [
       "<pre style=\"white-space:pre;overflow-x:auto;line-height:normal;font-family:Menlo,'DejaVu Sans Mono',consolas,'Courier New',monospace\">┏━━━━━━━━━━━━━━━━━━━━━━━━━━━━━━━━━┳━━━━━━━━━━━━━━━━━━━━━━━━┳━━━━━━━━━━━━━━━┓\n",
       "┃<span style=\"font-weight: bold\"> Layer (type)                    </span>┃<span style=\"font-weight: bold\"> Output Shape           </span>┃<span style=\"font-weight: bold\">       Param # </span>┃\n",
       "┡━━━━━━━━━━━━━━━━━━━━━━━━━━━━━━━━━╇━━━━━━━━━━━━━━━━━━━━━━━━╇━━━━━━━━━━━━━━━┩\n",
       "│ time_distributed_6              │ (<span style=\"color: #00d7ff; text-decoration-color: #00d7ff\">None</span>, <span style=\"color: #00af00; text-decoration-color: #00af00\">140</span>, <span style=\"color: #00af00; text-decoration-color: #00af00\">5</span>, <span style=\"color: #00af00; text-decoration-color: #00af00\">5</span>, <span style=\"color: #00af00; text-decoration-color: #00af00\">16</span>)  │         <span style=\"color: #00af00; text-decoration-color: #00af00\">1,024</span> │\n",
       "│ (<span style=\"color: #0087ff; text-decoration-color: #0087ff\">TimeDistributed</span>)               │                        │               │\n",
       "├─────────────────────────────────┼────────────────────────┼───────────────┤\n",
       "│ time_distributed_7              │ (<span style=\"color: #00d7ff; text-decoration-color: #00d7ff\">None</span>, <span style=\"color: #00af00; text-decoration-color: #00af00\">140</span>, <span style=\"color: #00af00; text-decoration-color: #00af00\">400</span>)       │             <span style=\"color: #00af00; text-decoration-color: #00af00\">0</span> │\n",
       "│ (<span style=\"color: #0087ff; text-decoration-color: #0087ff\">TimeDistributed</span>)               │                        │               │\n",
       "├─────────────────────────────────┼────────────────────────┼───────────────┤\n",
       "│ lstm_2 (<span style=\"color: #0087ff; text-decoration-color: #0087ff\">LSTM</span>)                   │ (<span style=\"color: #00d7ff; text-decoration-color: #00d7ff\">None</span>, <span style=\"color: #00af00; text-decoration-color: #00af00\">140</span>, <span style=\"color: #00af00; text-decoration-color: #00af00\">64</span>)        │       <span style=\"color: #00af00; text-decoration-color: #00af00\">119,040</span> │\n",
       "├─────────────────────────────────┼────────────────────────┼───────────────┤\n",
       "│ time_distributed_8              │ (<span style=\"color: #00d7ff; text-decoration-color: #00d7ff\">None</span>, <span style=\"color: #00af00; text-decoration-color: #00af00\">140</span>, <span style=\"color: #00af00; text-decoration-color: #00af00\">1</span>)         │            <span style=\"color: #00af00; text-decoration-color: #00af00\">65</span> │\n",
       "│ (<span style=\"color: #0087ff; text-decoration-color: #0087ff\">TimeDistributed</span>)               │                        │               │\n",
       "└─────────────────────────────────┴────────────────────────┴───────────────┘\n",
       "</pre>\n"
      ],
      "text/plain": [
       "┏━━━━━━━━━━━━━━━━━━━━━━━━━━━━━━━━━┳━━━━━━━━━━━━━━━━━━━━━━━━┳━━━━━━━━━━━━━━━┓\n",
       "┃\u001b[1m \u001b[0m\u001b[1mLayer (type)                   \u001b[0m\u001b[1m \u001b[0m┃\u001b[1m \u001b[0m\u001b[1mOutput Shape          \u001b[0m\u001b[1m \u001b[0m┃\u001b[1m \u001b[0m\u001b[1m      Param #\u001b[0m\u001b[1m \u001b[0m┃\n",
       "┡━━━━━━━━━━━━━━━━━━━━━━━━━━━━━━━━━╇━━━━━━━━━━━━━━━━━━━━━━━━╇━━━━━━━━━━━━━━━┩\n",
       "│ time_distributed_6              │ (\u001b[38;5;45mNone\u001b[0m, \u001b[38;5;34m140\u001b[0m, \u001b[38;5;34m5\u001b[0m, \u001b[38;5;34m5\u001b[0m, \u001b[38;5;34m16\u001b[0m)  │         \u001b[38;5;34m1,024\u001b[0m │\n",
       "│ (\u001b[38;5;33mTimeDistributed\u001b[0m)               │                        │               │\n",
       "├─────────────────────────────────┼────────────────────────┼───────────────┤\n",
       "│ time_distributed_7              │ (\u001b[38;5;45mNone\u001b[0m, \u001b[38;5;34m140\u001b[0m, \u001b[38;5;34m400\u001b[0m)       │             \u001b[38;5;34m0\u001b[0m │\n",
       "│ (\u001b[38;5;33mTimeDistributed\u001b[0m)               │                        │               │\n",
       "├─────────────────────────────────┼────────────────────────┼───────────────┤\n",
       "│ lstm_2 (\u001b[38;5;33mLSTM\u001b[0m)                   │ (\u001b[38;5;45mNone\u001b[0m, \u001b[38;5;34m140\u001b[0m, \u001b[38;5;34m64\u001b[0m)        │       \u001b[38;5;34m119,040\u001b[0m │\n",
       "├─────────────────────────────────┼────────────────────────┼───────────────┤\n",
       "│ time_distributed_8              │ (\u001b[38;5;45mNone\u001b[0m, \u001b[38;5;34m140\u001b[0m, \u001b[38;5;34m1\u001b[0m)         │            \u001b[38;5;34m65\u001b[0m │\n",
       "│ (\u001b[38;5;33mTimeDistributed\u001b[0m)               │                        │               │\n",
       "└─────────────────────────────────┴────────────────────────┴───────────────┘\n"
      ]
     },
     "metadata": {},
     "output_type": "display_data"
    },
    {
     "data": {
      "text/html": [
       "<pre style=\"white-space:pre;overflow-x:auto;line-height:normal;font-family:Menlo,'DejaVu Sans Mono',consolas,'Courier New',monospace\"><span style=\"font-weight: bold\"> Total params: </span><span style=\"color: #00af00; text-decoration-color: #00af00\">120,129</span> (469.25 KB)\n",
       "</pre>\n"
      ],
      "text/plain": [
       "\u001b[1m Total params: \u001b[0m\u001b[38;5;34m120,129\u001b[0m (469.25 KB)\n"
      ]
     },
     "metadata": {},
     "output_type": "display_data"
    },
    {
     "data": {
      "text/html": [
       "<pre style=\"white-space:pre;overflow-x:auto;line-height:normal;font-family:Menlo,'DejaVu Sans Mono',consolas,'Courier New',monospace\"><span style=\"font-weight: bold\"> Trainable params: </span><span style=\"color: #00af00; text-decoration-color: #00af00\">120,129</span> (469.25 KB)\n",
       "</pre>\n"
      ],
      "text/plain": [
       "\u001b[1m Trainable params: \u001b[0m\u001b[38;5;34m120,129\u001b[0m (469.25 KB)\n"
      ]
     },
     "metadata": {},
     "output_type": "display_data"
    },
    {
     "data": {
      "text/html": [
       "<pre style=\"white-space:pre;overflow-x:auto;line-height:normal;font-family:Menlo,'DejaVu Sans Mono',consolas,'Courier New',monospace\"><span style=\"font-weight: bold\"> Non-trainable params: </span><span style=\"color: #00af00; text-decoration-color: #00af00\">0</span> (0.00 B)\n",
       "</pre>\n"
      ],
      "text/plain": [
       "\u001b[1m Non-trainable params: \u001b[0m\u001b[38;5;34m0\u001b[0m (0.00 B)\n"
      ]
     },
     "metadata": {},
     "output_type": "display_data"
    }
   ],
   "source": [
    "def masked_mse(y_true, y_pred):\n",
    "    mask = tf.cast(tf.not_equal(y_true, 0.0), tf.float32)\n",
    "    squared_error = tf.square(y_true - y_pred)\n",
    "    masked_loss = tf.reduce_sum(squared_error * mask) / (tf.reduce_sum(mask) + 1e-6)\n",
    "    return masked_loss\n",
    "\n",
    "model = Sequential()\n",
    "model.add(TimeDistributed(\n",
    "    Conv2D(16, (3, 3), activation='relu', padding='same'),\n",
    "    input_shape=(140, 5, 5, 7)\n",
    "))\n",
    "model.add(TimeDistributed(Flatten()))\n",
    "model.add(LSTM(64, return_sequences=True))  # <--- important!\n",
    "model.add(TimeDistributed(Dense(1)))\n",
    "\n",
    "model.summary()\n"
   ]
  },
  {
   "cell_type": "code",
   "execution_count": 146,
   "metadata": {},
   "outputs": [
    {
     "name": "stderr",
     "output_type": "stream",
     "text": [
      "/Users/nalex2023/miniconda3/envs/nma/lib/python3.12/site-packages/visualkeras/layered.py:86: UserWarning: The legend_text_spacing_offset parameter is deprecated and will be removed in a future release.\n",
      "  warnings.warn(\"The legend_text_spacing_offset parameter is deprecated and will be removed in a future release.\")\n"
     ]
    },
    {
     "data": {
      "image/png": "[encoded data removed]",
      "text/plain": [
       "<PIL.Image.Image image mode=RGBA size=178x268>"
      ]
     },
     "execution_count": 146,
     "metadata": {},
     "output_type": "execute_result"
    }
   ],
   "source": [
    "visualkeras.layered_view(model,scale_xy=0.6)\n"
   ]
  },
  {
   "cell_type": "code",
   "execution_count": 153,
   "metadata": {},
   "outputs": [
    {
     "name": "stdout",
     "output_type": "stream",
     "text": [
      "Epoch 1/100\n",
      "\u001b[1m2/2\u001b[0m \u001b[32m━━━━━━━━━━━━━━━━━━━━\u001b[0m\u001b[37m\u001b[0m \u001b[1m4s\u001b[0m 746ms/step - loss: 0.0584 - mae: 0.3861 - val_loss: 0.0414 - val_mae: 0.4813\n",
      "Epoch 2/100\n",
      "\u001b[1m2/2\u001b[0m \u001b[32m━━━━━━━━━━━━━━━━━━━━\u001b[0m\u001b[37m\u001b[0m \u001b[1m0s\u001b[0m 67ms/step - loss: 0.0465 - mae: 0.4589 - val_loss: 0.0613 - val_mae: 0.2496\n",
      "Epoch 3/100\n",
      "\u001b[1m2/2\u001b[0m \u001b[32m━━━━━━━━━━━━━━━━━━━━\u001b[0m\u001b[37m\u001b[0m \u001b[1m0s\u001b[0m 70ms/step - loss: 0.0660 - mae: 0.2521 - val_loss: 0.0268 - val_mae: 0.3000\n",
      "Epoch 4/100\n",
      "\u001b[1m2/2\u001b[0m \u001b[32m━━━━━━━━━━━━━━━━━━━━\u001b[0m\u001b[37m\u001b[0m \u001b[1m0s\u001b[0m 72ms/step - loss: 0.0280 - mae: 0.3129 - val_loss: 0.0372 - val_mae: 0.4192\n",
      "Epoch 5/100\n",
      "\u001b[1m2/2\u001b[0m \u001b[32m━━━━━━━━━━━━━━━━━━━━\u001b[0m\u001b[37m\u001b[0m \u001b[1m0s\u001b[0m 80ms/step - loss: 0.0396 - mae: 0.4322 - val_loss: 0.0430 - val_mae: 0.4477\n",
      "Epoch 6/100\n",
      "\u001b[1m2/2\u001b[0m \u001b[32m━━━━━━━━━━━━━━━━━━━━\u001b[0m\u001b[37m\u001b[0m \u001b[1m0s\u001b[0m 75ms/step - loss: 0.0385 - mae: 0.4502 - val_loss: 0.0244 - val_mae: 0.3918\n",
      "Epoch 7/100\n",
      "\u001b[1m2/2\u001b[0m \u001b[32m━━━━━━━━━━━━━━━━━━━━\u001b[0m\u001b[37m\u001b[0m \u001b[1m0s\u001b[0m 77ms/step - loss: 0.0257 - mae: 0.3916 - val_loss: 0.0287 - val_mae: 0.3314\n",
      "Epoch 8/100\n",
      "\u001b[1m2/2\u001b[0m \u001b[32m━━━━━━━━━━━━━━━━━━━━\u001b[0m\u001b[37m\u001b[0m \u001b[1m0s\u001b[0m 70ms/step - loss: 0.0300 - mae: 0.3350 - val_loss: 0.0323 - val_mae: 0.3429\n",
      "Epoch 9/100\n",
      "\u001b[1m2/2\u001b[0m \u001b[32m━━━━━━━━━━━━━━━━━━━━\u001b[0m\u001b[37m\u001b[0m \u001b[1m0s\u001b[0m 74ms/step - loss: 0.0372 - mae: 0.3536 - val_loss: 0.0229 - val_mae: 0.4105\n",
      "Epoch 10/100\n",
      "\u001b[1m2/2\u001b[0m \u001b[32m━━━━━━━━━━━━━━━━━━━━\u001b[0m\u001b[37m\u001b[0m \u001b[1m0s\u001b[0m 72ms/step - loss: 0.0203 - mae: 0.4241 - val_loss: 0.0257 - val_mae: 0.4805\n",
      "Epoch 11/100\n",
      "\u001b[1m2/2\u001b[0m \u001b[32m━━━━━━━━━━━━━━━━━━━━\u001b[0m\u001b[37m\u001b[0m \u001b[1m0s\u001b[0m 70ms/step - loss: 0.0272 - mae: 0.4990 - val_loss: 0.0317 - val_mae: 0.5162\n",
      "Epoch 12/100\n",
      "\u001b[1m2/2\u001b[0m \u001b[32m━━━━━━━━━━━━━━━━━━━━\u001b[0m\u001b[37m\u001b[0m \u001b[1m0s\u001b[0m 78ms/step - loss: 0.0299 - mae: 0.5215 - val_loss: 0.0241 - val_mae: 0.4727\n",
      "Epoch 13/100\n",
      "\u001b[1m2/2\u001b[0m \u001b[32m━━━━━━━━━━━━━━━━━━━━\u001b[0m\u001b[37m\u001b[0m \u001b[1m0s\u001b[0m 120ms/step - loss: 0.0243 - mae: 0.4786 - val_loss: 0.0224 - val_mae: 0.4251\n",
      "Epoch 14/100\n",
      "\u001b[1m2/2\u001b[0m \u001b[32m━━━━━━━━━━━━━━━━━━━━\u001b[0m\u001b[37m\u001b[0m \u001b[1m0s\u001b[0m 78ms/step - loss: 0.0222 - mae: 0.4315 - val_loss: 0.0235 - val_mae: 0.4113\n",
      "Epoch 15/100\n",
      "\u001b[1m2/2\u001b[0m \u001b[32m━━━━━━━━━━━━━━━━━━━━\u001b[0m\u001b[37m\u001b[0m \u001b[1m0s\u001b[0m 70ms/step - loss: 0.0213 - mae: 0.4190 - val_loss: 0.0216 - val_mae: 0.4322\n",
      "Epoch 16/100\n",
      "\u001b[1m2/2\u001b[0m \u001b[32m━━━━━━━━━━━━━━━━━━━━\u001b[0m\u001b[37m\u001b[0m \u001b[1m0s\u001b[0m 78ms/step - loss: 0.0203 - mae: 0.4428 - val_loss: 0.0237 - val_mae: 0.4611\n",
      "Epoch 17/100\n",
      "\u001b[1m2/2\u001b[0m \u001b[32m━━━━━━━━━━━━━━━━━━━━\u001b[0m\u001b[37m\u001b[0m \u001b[1m0s\u001b[0m 75ms/step - loss: 0.0214 - mae: 0.4663 - val_loss: 0.0248 - val_mae: 0.4540\n",
      "Epoch 18/100\n",
      "\u001b[1m2/2\u001b[0m \u001b[32m━━━━━━━━━━━━━━━━━━━━\u001b[0m\u001b[37m\u001b[0m \u001b[1m0s\u001b[0m 78ms/step - loss: 0.0222 - mae: 0.4570 - val_loss: 0.0228 - val_mae: 0.4307\n",
      "Epoch 19/100\n",
      "\u001b[1m2/2\u001b[0m \u001b[32m━━━━━━━━━━━━━━━━━━━━\u001b[0m\u001b[37m\u001b[0m \u001b[1m0s\u001b[0m 76ms/step - loss: 0.0209 - mae: 0.4400 - val_loss: 0.0212 - val_mae: 0.4106\n",
      "Epoch 20/100\n",
      "\u001b[1m2/2\u001b[0m \u001b[32m━━━━━━━━━━━━━━━━━━━━\u001b[0m\u001b[37m\u001b[0m \u001b[1m0s\u001b[0m 77ms/step - loss: 0.0180 - mae: 0.4098 - val_loss: 0.0214 - val_mae: 0.3906\n",
      "Epoch 21/100\n",
      "\u001b[1m2/2\u001b[0m \u001b[32m━━━━━━━━━━━━━━━━━━━━\u001b[0m\u001b[37m\u001b[0m \u001b[1m0s\u001b[0m 76ms/step - loss: 0.0182 - mae: 0.3897 - val_loss: 0.0222 - val_mae: 0.3823\n",
      "Epoch 22/100\n",
      "\u001b[1m2/2\u001b[0m \u001b[32m━━━━━━━━━━━━━━━━━━━━\u001b[0m\u001b[37m\u001b[0m \u001b[1m0s\u001b[0m 116ms/step - loss: 0.0184 - mae: 0.3885 - val_loss: 0.0204 - val_mae: 0.3915\n",
      "Epoch 23/100\n",
      "\u001b[1m2/2\u001b[0m \u001b[32m━━━━━━━━━━━━━━━━━━━━\u001b[0m\u001b[37m\u001b[0m \u001b[1m0s\u001b[0m 78ms/step - loss: 0.0173 - mae: 0.3952 - val_loss: 0.0196 - val_mae: 0.4028\n",
      "Epoch 24/100\n",
      "\u001b[1m2/2\u001b[0m \u001b[32m━━━━━━━━━━━━━━━━━━━━\u001b[0m\u001b[37m\u001b[0m \u001b[1m0s\u001b[0m 77ms/step - loss: 0.0167 - mae: 0.4060 - val_loss: 0.0189 - val_mae: 0.3875\n",
      "Epoch 25/100\n",
      "\u001b[1m2/2\u001b[0m \u001b[32m━━━━━━━━━━━━━━━━━━━━\u001b[0m\u001b[37m\u001b[0m \u001b[1m0s\u001b[0m 69ms/step - loss: 0.0157 - mae: 0.3878 - val_loss: 0.0186 - val_mae: 0.3480\n",
      "Epoch 26/100\n",
      "\u001b[1m2/2\u001b[0m \u001b[32m━━━━━━━━━━━━━━━━━━━━\u001b[0m\u001b[37m\u001b[0m \u001b[1m0s\u001b[0m 68ms/step - loss: 0.0157 - mae: 0.3475 - val_loss: 0.0187 - val_mae: 0.3276\n",
      "Epoch 27/100\n",
      "\u001b[1m2/2\u001b[0m \u001b[32m━━━━━━━━━━━━━━━━━━━━\u001b[0m\u001b[37m\u001b[0m \u001b[1m0s\u001b[0m 69ms/step - loss: 0.0155 - mae: 0.3320 - val_loss: 0.0180 - val_mae: 0.3259\n",
      "Epoch 28/100\n",
      "\u001b[1m2/2\u001b[0m \u001b[32m━━━━━━━━━━━━━━━━━━━━\u001b[0m\u001b[37m\u001b[0m \u001b[1m0s\u001b[0m 71ms/step - loss: 0.0155 - mae: 0.3252 - val_loss: 0.0183 - val_mae: 0.3332\n",
      "Epoch 29/100\n",
      "\u001b[1m2/2\u001b[0m \u001b[32m━━━━━━━━━━━━━━━━━━━━\u001b[0m\u001b[37m\u001b[0m \u001b[1m0s\u001b[0m 78ms/step - loss: 0.0152 - mae: 0.3363 - val_loss: 0.0193 - val_mae: 0.3377\n",
      "Epoch 30/100\n",
      "\u001b[1m2/2\u001b[0m \u001b[32m━━━━━━━━━━━━━━━━━━━━\u001b[0m\u001b[37m\u001b[0m \u001b[1m0s\u001b[0m 69ms/step - loss: 0.0155 - mae: 0.3389 - val_loss: 0.0185 - val_mae: 0.3246\n",
      "Epoch 31/100\n",
      "\u001b[1m2/2\u001b[0m \u001b[32m━━━━━━━━━━━━━━━━━━━━\u001b[0m\u001b[37m\u001b[0m \u001b[1m0s\u001b[0m 82ms/step - loss: 0.0139 - mae: 0.3230 - val_loss: 0.0197 - val_mae: 0.2991\n",
      "Epoch 32/100\n",
      "\u001b[1m2/2\u001b[0m \u001b[32m━━━━━━━━━━━━━━━━━━━━\u001b[0m\u001b[37m\u001b[0m \u001b[1m0s\u001b[0m 89ms/step - loss: 0.0136 - mae: 0.2975 - val_loss: 0.0189 - val_mae: 0.3196\n",
      "Epoch 33/100\n",
      "\u001b[1m2/2\u001b[0m \u001b[32m━━━━━━━━━━━━━━━━━━━━\u001b[0m\u001b[37m\u001b[0m \u001b[1m0s\u001b[0m 84ms/step - loss: 0.0133 - mae: 0.3256 - val_loss: 0.0198 - val_mae: 0.3737\n",
      "Epoch 34/100\n",
      "\u001b[1m2/2\u001b[0m \u001b[32m━━━━━━━━━━━━━━━━━━━━\u001b[0m\u001b[37m\u001b[0m \u001b[1m0s\u001b[0m 79ms/step - loss: 0.0143 - mae: 0.3770 - val_loss: 0.0195 - val_mae: 0.3542\n",
      "Epoch 35/100\n",
      "\u001b[1m2/2\u001b[0m \u001b[32m━━━━━━━━━━━━━━━━━━━━\u001b[0m\u001b[37m\u001b[0m \u001b[1m0s\u001b[0m 90ms/step - loss: 0.0129 - mae: 0.3528 - val_loss: 0.0257 - val_mae: 0.3446\n",
      "Epoch 36/100\n",
      "\u001b[1m2/2\u001b[0m \u001b[32m━━━━━━━━━━━━━━━━━━━━\u001b[0m\u001b[37m\u001b[0m \u001b[1m0s\u001b[0m 85ms/step - loss: 0.0150 - mae: 0.3503 - val_loss: 0.0187 - val_mae: 0.4019\n",
      "Epoch 37/100\n",
      "\u001b[1m2/2\u001b[0m \u001b[32m━━━━━━━━━━━━━━━━━━━━\u001b[0m\u001b[37m\u001b[0m \u001b[1m0s\u001b[0m 90ms/step - loss: 0.0132 - mae: 0.4112 - val_loss: 0.0194 - val_mae: 0.4173\n",
      "Epoch 38/100\n",
      "\u001b[1m2/2\u001b[0m \u001b[32m━━━━━━━━━━━━━━━━━━━━\u001b[0m\u001b[37m\u001b[0m \u001b[1m0s\u001b[0m 82ms/step - loss: 0.0133 - mae: 0.4140 - val_loss: 0.0227 - val_mae: 0.3459\n",
      "Epoch 39/100\n",
      "\u001b[1m2/2\u001b[0m \u001b[32m━━━━━━━━━━━━━━━━━━━━\u001b[0m\u001b[37m\u001b[0m \u001b[1m0s\u001b[0m 79ms/step - loss: 0.0127 - mae: 0.3376 - val_loss: 0.0237 - val_mae: 0.2978\n",
      "Epoch 40/100\n",
      "\u001b[1m2/2\u001b[0m \u001b[32m━━━━━━━━━━━━━━━━━━━━\u001b[0m\u001b[37m\u001b[0m \u001b[1m0s\u001b[0m 86ms/step - loss: 0.0127 - mae: 0.2994 - val_loss: 0.0174 - val_mae: 0.3138\n",
      "Epoch 41/100\n",
      "\u001b[1m2/2\u001b[0m \u001b[32m━━━━━━━━━━━━━━━━━━━━\u001b[0m\u001b[37m\u001b[0m \u001b[1m0s\u001b[0m 92ms/step - loss: 0.0115 - mae: 0.3184 - val_loss: 0.0171 - val_mae: 0.3023\n",
      "Epoch 42/100\n",
      "\u001b[1m2/2\u001b[0m \u001b[32m━━━━━━━━━━━━━━━━━━━━\u001b[0m\u001b[37m\u001b[0m \u001b[1m0s\u001b[0m 106ms/step - loss: 0.0115 - mae: 0.2990 - val_loss: 0.0214 - val_mae: 0.2470\n",
      "Epoch 43/100\n",
      "\u001b[1m2/2\u001b[0m \u001b[32m━━━━━━━━━━━━━━━━━━━━\u001b[0m\u001b[37m\u001b[0m \u001b[1m0s\u001b[0m 79ms/step - loss: 0.0133 - mae: 0.2431 - val_loss: 0.0202 - val_mae: 0.2492\n",
      "Epoch 44/100\n",
      "\u001b[1m2/2\u001b[0m \u001b[32m━━━━━━━━━━━━━━━━━━━━\u001b[0m\u001b[37m\u001b[0m \u001b[1m0s\u001b[0m 76ms/step - loss: 0.0128 - mae: 0.2561 - val_loss: 0.0166 - val_mae: 0.2974\n",
      "Epoch 45/100\n",
      "\u001b[1m2/2\u001b[0m \u001b[32m━━━━━━━━━━━━━━━━━━━━\u001b[0m\u001b[37m\u001b[0m \u001b[1m0s\u001b[0m 86ms/step - loss: 0.0121 - mae: 0.3040 - val_loss: 0.0165 - val_mae: 0.2902\n",
      "Epoch 46/100\n",
      "\u001b[1m2/2\u001b[0m \u001b[32m━━━━━━━━━━━━━━━━━━━━\u001b[0m\u001b[37m\u001b[0m \u001b[1m0s\u001b[0m 79ms/step - loss: 0.0113 - mae: 0.2884 - val_loss: 0.0197 - val_mae: 0.2629\n",
      "Epoch 47/100\n",
      "\u001b[1m2/2\u001b[0m \u001b[32m━━━━━━━━━━━━━━━━━━━━\u001b[0m\u001b[37m\u001b[0m \u001b[1m0s\u001b[0m 72ms/step - loss: 0.0111 - mae: 0.2632 - val_loss: 0.0186 - val_mae: 0.2780\n",
      "Epoch 48/100\n",
      "\u001b[1m2/2\u001b[0m \u001b[32m━━━━━━━━━━━━━━━━━━━━\u001b[0m\u001b[37m\u001b[0m \u001b[1m0s\u001b[0m 85ms/step - loss: 0.0099 - mae: 0.2789 - val_loss: 0.0173 - val_mae: 0.2995\n",
      "Epoch 49/100\n",
      "\u001b[1m2/2\u001b[0m \u001b[32m━━━━━━━━━━━━━━━━━━━━\u001b[0m\u001b[37m\u001b[0m \u001b[1m0s\u001b[0m 84ms/step - loss: 0.0097 - mae: 0.2996 - val_loss: 0.0177 - val_mae: 0.2922\n",
      "Epoch 50/100\n",
      "\u001b[1m2/2\u001b[0m \u001b[32m━━━━━━━━━━━━━━━━━━━━\u001b[0m\u001b[37m\u001b[0m \u001b[1m0s\u001b[0m 87ms/step - loss: 0.0095 - mae: 0.2887 - val_loss: 0.0194 - val_mae: 0.2679\n",
      "Epoch 51/100\n",
      "\u001b[1m2/2\u001b[0m \u001b[32m━━━━━━━━━━━━━━━━━━━━\u001b[0m\u001b[37m\u001b[0m \u001b[1m0s\u001b[0m 88ms/step - loss: 0.0104 - mae: 0.2687 - val_loss: 0.0173 - val_mae: 0.2686\n",
      "Epoch 52/100\n",
      "\u001b[1m2/2\u001b[0m \u001b[32m━━━━━━━━━━━━━━━━━━━━\u001b[0m\u001b[37m\u001b[0m \u001b[1m0s\u001b[0m 89ms/step - loss: 0.0089 - mae: 0.2677 - val_loss: 0.0160 - val_mae: 0.2722\n",
      "Epoch 53/100\n",
      "\u001b[1m2/2\u001b[0m \u001b[32m━━━━━━━━━━━━━━━━━━━━\u001b[0m\u001b[37m\u001b[0m \u001b[1m0s\u001b[0m 81ms/step - loss: 0.0097 - mae: 0.2730 - val_loss: 0.0175 - val_mae: 0.2280\n",
      "Epoch 54/100\n",
      "\u001b[1m2/2\u001b[0m \u001b[32m━━━━━━━━━━━━━━━━━━━━\u001b[0m\u001b[37m\u001b[0m \u001b[1m0s\u001b[0m 89ms/step - loss: 0.0094 - mae: 0.2211 - val_loss: 0.0208 - val_mae: 0.2053\n",
      "Epoch 55/100\n",
      "\u001b[1m2/2\u001b[0m \u001b[32m━━━━━━━━━━━━━━━━━━━━\u001b[0m\u001b[37m\u001b[0m \u001b[1m0s\u001b[0m 87ms/step - loss: 0.0115 - mae: 0.2095 - val_loss: 0.0161 - val_mae: 0.2599\n",
      "Epoch 56/100\n",
      "\u001b[1m2/2\u001b[0m \u001b[32m━━━━━━━━━━━━━━━━━━━━\u001b[0m\u001b[37m\u001b[0m \u001b[1m0s\u001b[0m 98ms/step - loss: 0.0095 - mae: 0.2634 - val_loss: 0.0175 - val_mae: 0.2532\n",
      "Epoch 57/100\n",
      "\u001b[1m2/2\u001b[0m \u001b[32m━━━━━━━━━━━━━━━━━━━━\u001b[0m\u001b[37m\u001b[0m \u001b[1m0s\u001b[0m 87ms/step - loss: 0.0092 - mae: 0.2493 - val_loss: 0.0201 - val_mae: 0.2393\n",
      "Epoch 58/100\n",
      "\u001b[1m2/2\u001b[0m \u001b[32m━━━━━━━━━━━━━━━━━━━━\u001b[0m\u001b[37m\u001b[0m \u001b[1m0s\u001b[0m 112ms/step - loss: 0.0083 - mae: 0.2400 - val_loss: 0.0159 - val_mae: 0.2869\n",
      "Epoch 59/100\n",
      "\u001b[1m2/2\u001b[0m \u001b[32m━━━━━━━━━━━━━━━━━━━━\u001b[0m\u001b[37m\u001b[0m \u001b[1m0s\u001b[0m 97ms/step - loss: 0.0098 - mae: 0.2876 - val_loss: 0.0162 - val_mae: 0.2511\n",
      "Epoch 60/100\n",
      "\u001b[1m2/2\u001b[0m \u001b[32m━━━━━━━━━━━━━━━━━━━━\u001b[0m\u001b[37m\u001b[0m \u001b[1m0s\u001b[0m 100ms/step - loss: 0.0086 - mae: 0.2426 - val_loss: 0.0188 - val_mae: 0.2154\n",
      "Epoch 61/100\n",
      "\u001b[1m2/2\u001b[0m \u001b[32m━━━━━━━━━━━━━━━━━━━━\u001b[0m\u001b[37m\u001b[0m \u001b[1m0s\u001b[0m 93ms/step - loss: 0.0085 - mae: 0.2143 - val_loss: 0.0161 - val_mae: 0.2365\n",
      "Epoch 62/100\n",
      "\u001b[1m2/2\u001b[0m \u001b[32m━━━━━━━━━━━━━━━━━━━━\u001b[0m\u001b[37m\u001b[0m \u001b[1m0s\u001b[0m 100ms/step - loss: 0.0084 - mae: 0.2350 - val_loss: 0.0193 - val_mae: 0.1967\n",
      "Epoch 63/100\n",
      "\u001b[1m2/2\u001b[0m \u001b[32m━━━━━━━━━━━━━━━━━━━━\u001b[0m\u001b[37m\u001b[0m \u001b[1m0s\u001b[0m 107ms/step - loss: 0.0092 - mae: 0.1887 - val_loss: 0.0208 - val_mae: 0.1865\n",
      "Epoch 64/100\n",
      "\u001b[1m2/2\u001b[0m \u001b[32m━━━━━━━━━━━━━━━━━━━━\u001b[0m\u001b[37m\u001b[0m \u001b[1m0s\u001b[0m 111ms/step - loss: 0.0094 - mae: 0.1894 - val_loss: 0.0156 - val_mae: 0.2527\n",
      "Epoch 65/100\n",
      "\u001b[1m2/2\u001b[0m \u001b[32m━━━━━━━━━━━━━━━━━━━━\u001b[0m\u001b[37m\u001b[0m \u001b[1m0s\u001b[0m 105ms/step - loss: 0.0090 - mae: 0.2502 - val_loss: 0.0171 - val_mae: 0.2151\n",
      "Epoch 66/100\n",
      "\u001b[1m2/2\u001b[0m \u001b[32m━━━━━━━━━━━━━━━━━━━━\u001b[0m\u001b[37m\u001b[0m \u001b[1m0s\u001b[0m 121ms/step - loss: 0.0076 - mae: 0.2049 - val_loss: 0.0191 - val_mae: 0.1949\n",
      "Epoch 67/100\n",
      "\u001b[1m2/2\u001b[0m \u001b[32m━━━━━━━━━━━━━━━━━━━━\u001b[0m\u001b[37m\u001b[0m \u001b[1m0s\u001b[0m 105ms/step - loss: 0.0076 - mae: 0.1941 - val_loss: 0.0156 - val_mae: 0.2289\n",
      "Epoch 68/100\n",
      "\u001b[1m2/2\u001b[0m \u001b[32m━━━━━━━━━━━━━━━━━━━━\u001b[0m\u001b[37m\u001b[0m \u001b[1m0s\u001b[0m 94ms/step - loss: 0.0084 - mae: 0.2280 - val_loss: 0.0167 - val_mae: 0.1949\n",
      "Epoch 69/100\n",
      "\u001b[1m2/2\u001b[0m \u001b[32m━━━━━━━━━━━━━━━━━━━━\u001b[0m\u001b[37m\u001b[0m \u001b[1m0s\u001b[0m 93ms/step - loss: 0.0072 - mae: 0.1874 - val_loss: 0.0209 - val_mae: 0.1577\n",
      "Epoch 70/100\n",
      "\u001b[1m2/2\u001b[0m \u001b[32m━━━━━━━━━━━━━━━━━━━━\u001b[0m\u001b[37m\u001b[0m \u001b[1m0s\u001b[0m 98ms/step - loss: 0.0085 - mae: 0.1538 - val_loss: 0.0157 - val_mae: 0.2106\n",
      "Epoch 71/100\n",
      "\u001b[1m2/2\u001b[0m \u001b[32m━━━━━━━━━━━━━━━━━━━━\u001b[0m\u001b[37m\u001b[0m \u001b[1m0s\u001b[0m 93ms/step - loss: 0.0078 - mae: 0.2141 - val_loss: 0.0156 - val_mae: 0.2248\n",
      "Epoch 72/100\n",
      "\u001b[1m2/2\u001b[0m \u001b[32m━━━━━━━━━━━━━━━━━━━━\u001b[0m\u001b[37m\u001b[0m \u001b[1m0s\u001b[0m 94ms/step - loss: 0.0085 - mae: 0.2169 - val_loss: 0.0189 - val_mae: 0.1745\n",
      "Epoch 73/100\n",
      "\u001b[1m2/2\u001b[0m \u001b[32m━━━━━━━━━━━━━━━━━━━━\u001b[0m\u001b[37m\u001b[0m \u001b[1m0s\u001b[0m 84ms/step - loss: 0.0070 - mae: 0.1701 - val_loss: 0.0160 - val_mae: 0.1889\n",
      "Epoch 74/100\n",
      "\u001b[1m2/2\u001b[0m \u001b[32m━━━━━━━━━━━━━━━━━━━━\u001b[0m\u001b[37m\u001b[0m \u001b[1m0s\u001b[0m 93ms/step - loss: 0.0071 - mae: 0.1862 - val_loss: 0.0161 - val_mae: 0.1743\n",
      "Epoch 75/100\n",
      "\u001b[1m2/2\u001b[0m \u001b[32m━━━━━━━━━━━━━━━━━━━━\u001b[0m\u001b[37m\u001b[0m \u001b[1m0s\u001b[0m 88ms/step - loss: 0.0069 - mae: 0.1680 - val_loss: 0.0204 - val_mae: 0.1316\n",
      "Epoch 76/100\n",
      "\u001b[1m2/2\u001b[0m \u001b[32m━━━━━━━━━━━━━━━━━━━━\u001b[0m\u001b[37m\u001b[0m \u001b[1m0s\u001b[0m 88ms/step - loss: 0.0084 - mae: 0.1254 - val_loss: 0.0179 - val_mae: 0.1657\n",
      "Epoch 77/100\n",
      "\u001b[1m2/2\u001b[0m \u001b[32m━━━━━━━━━━━━━━━━━━━━\u001b[0m\u001b[37m\u001b[0m \u001b[1m0s\u001b[0m 94ms/step - loss: 0.0068 - mae: 0.1659 - val_loss: 0.0159 - val_mae: 0.2385\n",
      "Epoch 78/100\n",
      "\u001b[1m2/2\u001b[0m \u001b[32m━━━━━━━━━━━━━━━━━━━━\u001b[0m\u001b[37m\u001b[0m \u001b[1m0s\u001b[0m 91ms/step - loss: 0.0077 - mae: 0.2318 - val_loss: 0.0161 - val_mae: 0.2324\n",
      "Epoch 79/100\n",
      "\u001b[1m2/2\u001b[0m \u001b[32m━━━━━━━━━━━━━━━━━━━━\u001b[0m\u001b[37m\u001b[0m \u001b[1m0s\u001b[0m 93ms/step - loss: 0.0069 - mae: 0.2264 - val_loss: 0.0182 - val_mae: 0.1864\n",
      "Epoch 80/100\n",
      "\u001b[1m2/2\u001b[0m \u001b[32m━━━━━━━━━━━━━━━━━━━━\u001b[0m\u001b[37m\u001b[0m \u001b[1m0s\u001b[0m 95ms/step - loss: 0.0066 - mae: 0.1772 - val_loss: 0.0177 - val_mae: 0.1650\n",
      "Epoch 81/100\n",
      "\u001b[1m2/2\u001b[0m \u001b[32m━━━━━━━━━━━━━━━━━━━━\u001b[0m\u001b[37m\u001b[0m \u001b[1m0s\u001b[0m 96ms/step - loss: 0.0062 - mae: 0.1592 - val_loss: 0.0152 - val_mae: 0.1832\n",
      "Epoch 82/100\n",
      "\u001b[1m2/2\u001b[0m \u001b[32m━━━━━━━━━━━━━━━━━━━━\u001b[0m\u001b[37m\u001b[0m \u001b[1m0s\u001b[0m 87ms/step - loss: 0.0073 - mae: 0.1769 - val_loss: 0.0158 - val_mae: 0.1598\n",
      "Epoch 83/100\n",
      "\u001b[1m2/2\u001b[0m \u001b[32m━━━━━━━━━━━━━━━━━━━━\u001b[0m\u001b[37m\u001b[0m \u001b[1m0s\u001b[0m 88ms/step - loss: 0.0059 - mae: 0.1521 - val_loss: 0.0162 - val_mae: 0.1687\n",
      "Epoch 84/100\n",
      "\u001b[1m2/2\u001b[0m \u001b[32m━━━━━━━━━━━━━━━━━━━━\u001b[0m\u001b[37m\u001b[0m \u001b[1m0s\u001b[0m 95ms/step - loss: 0.0061 - mae: 0.1678 - val_loss: 0.0161 - val_mae: 0.1936\n",
      "Epoch 85/100\n",
      "\u001b[1m2/2\u001b[0m \u001b[32m━━━━━━━━━━━━━━━━━━━━\u001b[0m\u001b[37m\u001b[0m \u001b[1m0s\u001b[0m 93ms/step - loss: 0.0055 - mae: 0.1870 - val_loss: 0.0210 - val_mae: 0.1899\n",
      "Epoch 86/100\n",
      "\u001b[1m2/2\u001b[0m \u001b[32m━━━━━━━━━━━━━━━━━━━━\u001b[0m\u001b[37m\u001b[0m \u001b[1m0s\u001b[0m 94ms/step - loss: 0.0065 - mae: 0.1852 - val_loss: 0.0162 - val_mae: 0.2673\n",
      "Epoch 87/100\n",
      "\u001b[1m2/2\u001b[0m \u001b[32m━━━━━━━━━━━━━━━━━━━━\u001b[0m\u001b[37m\u001b[0m \u001b[1m0s\u001b[0m 87ms/step - loss: 0.0088 - mae: 0.2633 - val_loss: 0.0161 - val_mae: 0.2058\n",
      "Epoch 88/100\n",
      "\u001b[1m2/2\u001b[0m \u001b[32m━━━━━━━━━━━━━━━━━━━━\u001b[0m\u001b[37m\u001b[0m \u001b[1m0s\u001b[0m 99ms/step - loss: 0.0055 - mae: 0.1912 - val_loss: 0.0214 - val_mae: 0.1299\n",
      "Epoch 89/100\n",
      "\u001b[1m2/2\u001b[0m \u001b[32m━━━━━━━━━━━━━━━━━━━━\u001b[0m\u001b[37m\u001b[0m \u001b[1m0s\u001b[0m 125ms/step - loss: 0.0060 - mae: 0.1252 - val_loss: 0.0176 - val_mae: 0.2047\n",
      "Epoch 90/100\n",
      "\u001b[1m2/2\u001b[0m \u001b[32m━━━━━━━━━━━━━━━━━━━━\u001b[0m\u001b[37m\u001b[0m \u001b[1m0s\u001b[0m 94ms/step - loss: 0.0094 - mae: 0.2025 - val_loss: 0.0171 - val_mae: 0.1599\n",
      "Epoch 91/100\n",
      "\u001b[1m2/2\u001b[0m \u001b[32m━━━━━━━━━━━━━━━━━━━━\u001b[0m\u001b[37m\u001b[0m \u001b[1m0s\u001b[0m 97ms/step - loss: 0.0057 - mae: 0.1474 - val_loss: 0.0198 - val_mae: 0.1677\n",
      "Epoch 92/100\n",
      "\u001b[1m2/2\u001b[0m \u001b[32m━━━━━━━━━━━━━━━━━━━━\u001b[0m\u001b[37m\u001b[0m \u001b[1m0s\u001b[0m 101ms/step - loss: 0.0060 - mae: 0.1697 - val_loss: 0.0175 - val_mae: 0.2613\n",
      "Epoch 93/100\n",
      "\u001b[1m2/2\u001b[0m \u001b[32m━━━━━━━━━━━━━━━━━━━━\u001b[0m\u001b[37m\u001b[0m \u001b[1m0s\u001b[0m 91ms/step - loss: 0.0094 - mae: 0.2523 - val_loss: 0.0193 - val_mae: 0.1881\n",
      "Epoch 94/100\n",
      "\u001b[1m2/2\u001b[0m \u001b[32m━━━━━━━━━━━━━━━━━━━━\u001b[0m\u001b[37m\u001b[0m \u001b[1m0s\u001b[0m 99ms/step - loss: 0.0066 - mae: 0.1795 - val_loss: 0.0184 - val_mae: 0.1952\n",
      "Epoch 95/100\n",
      "\u001b[1m2/2\u001b[0m \u001b[32m━━━━━━━━━━━━━━━━━━━━\u001b[0m\u001b[37m\u001b[0m \u001b[1m0s\u001b[0m 97ms/step - loss: 0.0053 - mae: 0.1925 - val_loss: 0.0171 - val_mae: 0.2617\n",
      "Epoch 96/100\n",
      "\u001b[1m2/2\u001b[0m \u001b[32m━━━━━━━━━━━━━━━━━━━━\u001b[0m\u001b[37m\u001b[0m \u001b[1m0s\u001b[0m 103ms/step - loss: 0.0077 - mae: 0.2540 - val_loss: 0.0159 - val_mae: 0.2280\n",
      "Epoch 97/100\n",
      "\u001b[1m2/2\u001b[0m \u001b[32m━━━━━━━━━━━━━━━━━━━━\u001b[0m\u001b[37m\u001b[0m \u001b[1m0s\u001b[0m 94ms/step - loss: 0.0051 - mae: 0.2170 - val_loss: 0.0173 - val_mae: 0.2070\n",
      "Epoch 98/100\n",
      "\u001b[1m2/2\u001b[0m \u001b[32m━━━━━━━━━━━━━━━━━━━━\u001b[0m\u001b[37m\u001b[0m \u001b[1m0s\u001b[0m 127ms/step - loss: 0.0052 - mae: 0.2032 - val_loss: 0.0145 - val_mae: 0.2268\n",
      "Epoch 99/100\n",
      "\u001b[1m2/2\u001b[0m \u001b[32m━━━━━━━━━━━━━━━━━━━━\u001b[0m\u001b[37m\u001b[0m \u001b[1m0s\u001b[0m 99ms/step - loss: 0.0052 - mae: 0.2193 - val_loss: 0.0145 - val_mae: 0.2117\n",
      "Epoch 100/100\n",
      "\u001b[1m2/2\u001b[0m \u001b[32m━━━━━━━━━━━━━━━━━━━━\u001b[0m\u001b[37m\u001b[0m \u001b[1m0s\u001b[0m 92ms/step - loss: 0.0052 - mae: 0.2035 - val_loss: 0.0155 - val_mae: 0.1876\n"
     ]
    },
    {
     "data": {
      "text/plain": [
       "<keras.src.callbacks.history.History at 0x306afbd70>"
      ]
     },
     "execution_count": 153,
     "metadata": {},
     "output_type": "execute_result"
    }
   ],
   "source": [
    "model.compile(optimizer='adam', metrics=['mae'] , loss=masked_mse)\n",
    "\n",
    "model.fit(X_train_scaled, Y_train_scaled, epochs=100, batch_size=32, validation_split=0.2)"
   ]
  },
  {
   "cell_type": "code",
   "execution_count": 154,
   "metadata": {},
   "outputs": [
    {
     "name": "stdout",
     "output_type": "stream",
     "text": [
      "\u001b[1m1/1\u001b[0m \u001b[32m━━━━━━━━━━━━━━━━━━━━\u001b[0m\u001b[37m\u001b[0m \u001b[1m1s\u001b[0m 666ms/step\n"
     ]
    }
   ],
   "source": [
    "predict_x = model.predict(X_test_scaled)"
   ]
  },
  {
   "cell_type": "code",
   "execution_count": 155,
   "metadata": {},
   "outputs": [],
   "source": [
    "def invert_add_meta(data,scalar,xr_data):\n",
    "    data = scalar.inverse_transform(data.reshape(-1 ,1)).reshape(xr_data.shape)\n",
    "    added_meta = xr.DataArray(data, coords=xr_data.coords, dims=xr_data.dims)\n",
    "    return added_meta\n",
    "\n",
    "predicted_wind_speed = invert_add_meta(predict_x, y_test_scaler, Y_test)\n",
    "\n",
    "observed_wind_speeds = Y_test\n",
    "\n",
    "final_dset = predicted_wind_speed.to_dataset(name='predicted_wind_speed')\n",
    "final_dset['observed_wind_speed'] = observed_wind_speeds\n",
    "                                                    \n",
    "final_dft = final_dset.to_dataframe().reset_index()\n",
    "\n",
    "# set 0.0 as nan in observed_wind_speed\n",
    "final_dft['observed_wind_speed'] = final_dft['observed_wind_speed'].replace(0.0, np.nan)\n",
    "\n",
    "# whenever the predicted_wind_speed is nan, sdrop the entire row\n",
    "\n",
    "final_dft = final_dft.dropna(how='any',axis=0)\n",
    "\n",
    "final_pivot_col = final_dft.drop(columns=['time','level'])"
   ]
  },
  {
   "cell_type": "code",
   "execution_count": 156,
   "metadata": {},
   "outputs": [
    {
     "data": {
      "application/vnd.microsoft.datawrangler.viewer.v0+json": {
       "columns": [
        {
         "name": "index",
         "rawType": "int64",
         "type": "integer"
        },
        {
         "name": "id",
         "rawType": "float64",
         "type": "float"
        },
        {
         "name": "lead",
         "rawType": "int64",
         "type": "integer"
        },
        {
         "name": "predicted_wind_speed",
         "rawType": "float32",
         "type": "float"
        },
        {
         "name": "observed_wind_speed",
         "rawType": "float64",
         "type": "float"
        }
       ],
       "ref": "e60b8df9-29c8-4294-901a-a0d6b0697095",
       "rows": [
        [
         "0",
         "41.0",
         "0",
         "35.869568",
         "46.0"
        ],
        [
         "1",
         "41.0",
         "6",
         "36.96922",
         "51.0"
        ],
        [
         "2",
         "41.0",
         "12",
         "32.74945",
         "56.0"
        ],
        [
         "3",
         "41.0",
         "18",
         "31.629051",
         "61.0"
        ],
        [
         "4",
         "41.0",
         "24",
         "33.868134",
         "65.0"
        ],
        [
         "5",
         "41.0",
         "30",
         "40.64444",
         "67.5"
        ],
        [
         "6",
         "41.0",
         "36",
         "38.797104",
         "75.0"
        ],
        [
         "7",
         "41.0",
         "42",
         "38.59418",
         "76.0"
        ],
        [
         "8",
         "41.0",
         "48",
         "37.09353",
         "81.0"
        ],
        [
         "9",
         "41.0",
         "54",
         "39.53862",
         "86.0"
        ],
        [
         "10",
         "41.0",
         "60",
         "41.336124",
         "92.5"
        ],
        [
         "11",
         "41.0",
         "66",
         "40.203655",
         "97.5"
        ],
        [
         "12",
         "41.0",
         "72",
         "42.17819",
         "87.5"
        ],
        [
         "13",
         "41.0",
         "78",
         "47.08158",
         "78.5"
        ],
        [
         "14",
         "41.0",
         "84",
         "55.94474",
         "72.5"
        ],
        [
         "15",
         "41.0",
         "90",
         "61.63136",
         "66.0"
        ],
        [
         "16",
         "41.0",
         "96",
         "60.769894",
         "70.0"
        ],
        [
         "80",
         "22.0",
         "0",
         "26.023838",
         "26.0"
        ],
        [
         "81",
         "22.0",
         "6",
         "32.514267",
         "30.0"
        ],
        [
         "82",
         "22.0",
         "12",
         "41.047234",
         "31.0"
        ],
        [
         "83",
         "22.0",
         "18",
         "38.037838",
         "36.0"
        ],
        [
         "84",
         "22.0",
         "24",
         "43.80856",
         "41.0"
        ],
        [
         "85",
         "22.0",
         "30",
         "50.200832",
         "46.0"
        ],
        [
         "86",
         "22.0",
         "36",
         "50.043457",
         "50.0"
        ],
        [
         "87",
         "22.0",
         "42",
         "50.234783",
         "52.5"
        ],
        [
         "88",
         "22.0",
         "48",
         "53.15238",
         "61.0"
        ],
        [
         "89",
         "22.0",
         "54",
         "60.89983",
         "66.0"
        ],
        [
         "90",
         "22.0",
         "60",
         "66.17581",
         "73.5"
        ],
        [
         "91",
         "22.0",
         "66",
         "69.372894",
         "88.5"
        ],
        [
         "92",
         "22.0",
         "72",
         "72.44399",
         "102.5"
        ],
        [
         "93",
         "22.0",
         "78",
         "78.70664",
         "110.0"
        ],
        [
         "94",
         "22.0",
         "84",
         "80.1162",
         "110.0"
        ],
        [
         "95",
         "22.0",
         "90",
         "86.55342",
         "111.0"
        ],
        [
         "96",
         "22.0",
         "96",
         "85.29805",
         "116.0"
        ],
        [
         "97",
         "22.0",
         "102",
         "89.17938",
         "120.0"
        ],
        [
         "98",
         "22.0",
         "108",
         "96.589806",
         "120.0"
        ],
        [
         "99",
         "22.0",
         "114",
         "96.20307",
         "121.0"
        ],
        [
         "100",
         "22.0",
         "120",
         "95.765366",
         "125.0"
        ],
        [
         "101",
         "22.0",
         "126",
         "100.92956",
         "123.5"
        ],
        [
         "102",
         "22.0",
         "132",
         "102.09915",
         "120.0"
        ],
        [
         "103",
         "22.0",
         "138",
         "101.14148",
         "120.0"
        ],
        [
         "104",
         "22.0",
         "144",
         "108.65899",
         "118.5"
        ],
        [
         "105",
         "22.0",
         "150",
         "109.049194",
         "113.5"
        ],
        [
         "106",
         "22.0",
         "156",
         "112.5794",
         "110.0"
        ],
        [
         "107",
         "22.0",
         "162",
         "115.63627",
         "110.0"
        ],
        [
         "108",
         "22.0",
         "168",
         "115.56575",
         "111.0"
        ],
        [
         "109",
         "22.0",
         "174",
         "116.358315",
         "112.5"
        ],
        [
         "110",
         "22.0",
         "180",
         "119.23751",
         "105.0"
        ],
        [
         "111",
         "22.0",
         "186",
         "124.388374",
         "106.0"
        ],
        [
         "112",
         "22.0",
         "192",
         "123.38723",
         "111.0"
        ]
       ],
       "shape": {
        "columns": 4,
        "rows": 306
       }
      },
      "text/html": [
       "<div>\n",
       "<style scoped>\n",
       "    .dataframe tbody tr th:only-of-type {\n",
       "        vertical-align: middle;\n",
       "    }\n",
       "\n",
       "    .dataframe tbody tr th {\n",
       "        vertical-align: top;\n",
       "    }\n",
       "\n",
       "    .dataframe thead th {\n",
       "        text-align: right;\n",
       "    }\n",
       "</style>\n",
       "<table border=\"1\" class=\"dataframe\">\n",
       "  <thead>\n",
       "    <tr style=\"text-align: right;\">\n",
       "      <th></th>\n",
       "      <th>id</th>\n",
       "      <th>lead</th>\n",
       "      <th>predicted_wind_speed</th>\n",
       "      <th>observed_wind_speed</th>\n",
       "    </tr>\n",
       "  </thead>\n",
       "  <tbody>\n",
       "    <tr>\n",
       "      <th>0</th>\n",
       "      <td>41.0</td>\n",
       "      <td>0</td>\n",
       "      <td>35.869568</td>\n",
       "      <td>46.0</td>\n",
       "    </tr>\n",
       "    <tr>\n",
       "      <th>1</th>\n",
       "      <td>41.0</td>\n",
       "      <td>6</td>\n",
       "      <td>36.969219</td>\n",
       "      <td>51.0</td>\n",
       "    </tr>\n",
       "    <tr>\n",
       "      <th>2</th>\n",
       "      <td>41.0</td>\n",
       "      <td>12</td>\n",
       "      <td>32.749451</td>\n",
       "      <td>56.0</td>\n",
       "    </tr>\n",
       "    <tr>\n",
       "      <th>3</th>\n",
       "      <td>41.0</td>\n",
       "      <td>18</td>\n",
       "      <td>31.629051</td>\n",
       "      <td>61.0</td>\n",
       "    </tr>\n",
       "    <tr>\n",
       "      <th>4</th>\n",
       "      <td>41.0</td>\n",
       "      <td>24</td>\n",
       "      <td>33.868134</td>\n",
       "      <td>65.0</td>\n",
       "    </tr>\n",
       "    <tr>\n",
       "      <th>...</th>\n",
       "      <td>...</td>\n",
       "      <td>...</td>\n",
       "      <td>...</td>\n",
       "      <td>...</td>\n",
       "    </tr>\n",
       "    <tr>\n",
       "      <th>1064</th>\n",
       "      <td>35.0</td>\n",
       "      <td>144</td>\n",
       "      <td>45.388672</td>\n",
       "      <td>58.5</td>\n",
       "    </tr>\n",
       "    <tr>\n",
       "      <th>1065</th>\n",
       "      <td>35.0</td>\n",
       "      <td>150</td>\n",
       "      <td>40.030651</td>\n",
       "      <td>53.5</td>\n",
       "    </tr>\n",
       "    <tr>\n",
       "      <th>1066</th>\n",
       "      <td>35.0</td>\n",
       "      <td>156</td>\n",
       "      <td>39.191105</td>\n",
       "      <td>48.5</td>\n",
       "    </tr>\n",
       "    <tr>\n",
       "      <th>1067</th>\n",
       "      <td>35.0</td>\n",
       "      <td>162</td>\n",
       "      <td>34.868706</td>\n",
       "      <td>46.0</td>\n",
       "    </tr>\n",
       "    <tr>\n",
       "      <th>1068</th>\n",
       "      <td>35.0</td>\n",
       "      <td>168</td>\n",
       "      <td>39.743523</td>\n",
       "      <td>51.0</td>\n",
       "    </tr>\n",
       "  </tbody>\n",
       "</table>\n",
       "<p>306 rows × 4 columns</p>\n",
       "</div>"
      ],
      "text/plain": [
       "        id  lead  predicted_wind_speed  observed_wind_speed\n",
       "0     41.0     0             35.869568                 46.0\n",
       "1     41.0     6             36.969219                 51.0\n",
       "2     41.0    12             32.749451                 56.0\n",
       "3     41.0    18             31.629051                 61.0\n",
       "4     41.0    24             33.868134                 65.0\n",
       "...    ...   ...                   ...                  ...\n",
       "1064  35.0   144             45.388672                 58.5\n",
       "1065  35.0   150             40.030651                 53.5\n",
       "1066  35.0   156             39.191105                 48.5\n",
       "1067  35.0   162             34.868706                 46.0\n",
       "1068  35.0   168             39.743523                 51.0\n",
       "\n",
       "[306 rows x 4 columns]"
      ]
     },
     "execution_count": 156,
     "metadata": {},
     "output_type": "execute_result"
    }
   ],
   "source": [
    "final_pivot_col"
   ]
  },
  {
   "cell_type": "code",
   "execution_count": 157,
   "metadata": {},
   "outputs": [
    {
     "name": "stderr",
     "output_type": "stream",
     "text": [
      "/var/folders/bt/kswp83jx5mj4bn1bjkh9g4rsg_b7ks/T/ipykernel_45613/738888654.py:12: UserWarning: \n",
      "The palette list has fewer values (6) than needed (14) and will cycle, which may produce an uninterpretable plot.\n",
      "  sns.lineplot(\n",
      "/var/folders/bt/kswp83jx5mj4bn1bjkh9g4rsg_b7ks/T/ipykernel_45613/738888654.py:25: UserWarning: \n",
      "The palette list has fewer values (6) than needed (14) and will cycle, which may produce an uninterpretable plot.\n",
      "  sns.lineplot(\n"
     ]
    },
    {
     "data": {
      "text/plain": [
       "Text(0, 0.5, 'Wind Speed (m/s)')"
      ]
     },
     "execution_count": 157,
     "metadata": {},
     "output_type": "execute_result"
    },
    {
     "data": {
      "image/png": "[encoded data removed]",
      "text/plain": [
       "<Figure size 1200x600 with 1 Axes>"
      ]
     },
     "metadata": {},
     "output_type": "display_data"
    }
   ],
   "source": [
    "import seaborn as sbs \n",
    "\n",
    "import seaborn as sns\n",
    "import matplotlib.pyplot as plt\n",
    "\n",
    "# Define two different palettes\n",
    "palette1 = sns.color_palette(\"Reds\")           # for predicted\n",
    "palette2 = sns.color_palette(\"Blues\")            # for observed\n",
    "\n",
    "fig,ax = plt.subplots(figsize=(12, 6))\n",
    "# First lineplot (predicted) with palette1\n",
    "sns.lineplot(\n",
    "    data=final_pivot_col,\n",
    "    x='lead',\n",
    "    y='predicted_wind_speed',\n",
    "    hue='id',\n",
    "    style='id',\n",
    "    markers=True,\n",
    "    dashes=False,\n",
    "    palette=palette1,\n",
    "    legend='brief'\n",
    ",ax=ax)\n",
    "\n",
    "# Second lineplot (observed) with palette2\n",
    "sns.lineplot(\n",
    "    data=final_pivot_col,\n",
    "    x='lead',\n",
    "    y='observed_wind_speed',\n",
    "    hue='id',\n",
    "    style='id',\n",
    "    markers=True,\n",
    "    dashes=False,\n",
    "    palette=palette2,\n",
    "    legend='brief'\n",
    ",ax=ax)\n",
    "plt.legend('')\n",
    "\n",
    "\n",
    "\n",
    "# add H to the end of xticks\n",
    "xticks = ax.get_xticks()\n",
    "ax.set_xticks(xticks)\n",
    "ax.set_xticklabels([f'{int(tick)}H' for tick in xticks])\n",
    "ax.set_xlim(0, 500)\n",
    "\n",
    "\n",
    "ax.set_xlabel('Lead (Hours)',fontsize=15)\n",
    "ax.set_title('Predicted (Reds) vs Observed Wind Speed (Blues)',fontsize=18)\n",
    "\n",
    "ax.set_ylabel('Wind Speed (m/s)',fontsize=15)\n",
    "#sbs.lineplot(data=final_pivot_col, x='lead', y='observed_wind_speed', hue='id', style='id', markers=True, dashes=False)"
   ]
  }
 ],
 "metadata": {
  "kernelspec": {
   "display_name": "nma",
   "language": "python",
   "name": "python3"
  },
  "language_info": {
   "codemirror_mode": {
    "name": "ipython",
    "version": 3
   },
   "file_extension": ".py",
   "mimetype": "text/x-python",
   "name": "python",
   "nbconvert_exporter": "python",
   "pygments_lexer": "ipython3",
   "version": "3.12.0"
  },
  "nbdime-conflicts": {
   "local_diff": [
    {
     "diff": [
      {
       "diff": [
        {
         "key": 0,
         "op": "addrange",
         "valuelist": [
          "Python 3"
         ]
        },
        {
         "key": 0,
         "length": 1,
         "op": "removerange"
        }
       ],
       "key": "display_name",
       "op": "patch"
      }
     ],
     "key": "kernelspec",
     "op": "patch"
    }
   ],
   "remote_diff": [
    {
     "diff": [
      {
       "diff": [
        {
         "key": 0,
         "op": "addrange",
         "valuelist": [
          "Python3"
         ]
        },
        {
         "key": 0,
         "length": 1,
         "op": "removerange"
        }
       ],
       "key": "display_name",
       "op": "patch"
      }
     ],
     "key": "kernelspec",
     "op": "patch"
    }
   ]
  },
  "toc-autonumbering": false
 },
 "nbformat": 4,
 "nbformat_minor": 4
}
