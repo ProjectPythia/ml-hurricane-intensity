{
 "cells": [
  {
   "cell_type": "markdown",
   "id": "dca900b4-b5ef-479d-847c-2c43bcf8e497",
   "metadata": {},
   "source": [
    "# Read in data from the S3 bucket"
   ]
  },
  {
   "cell_type": "markdown",
   "id": "bd5d50d2-2af2-4f50-9935-bda6ddebe7b2",
   "metadata": {},
   "source": [
    "---"
   ]
  },
  {
   "cell_type": "markdown",
   "id": "4c7d47c8-1be7-4654-85dc-d88cf8979333",
   "metadata": {},
   "source": [
    "## Imports"
   ]
  },
  {
   "cell_type": "code",
   "execution_count": null,
   "id": "f7604cb4-59ec-4068-adeb-b79aadb50db7",
   "metadata": {},
   "outputs": [],
   "source": [
    "import xarray as xr\n",
    "import s3fs"
   ]
  },
  {
   "cell_type": "markdown",
   "id": "69df2c27-18d0-47d5-86da-e231e39ef789",
   "metadata": {},
   "source": [
    "## Loading our data into xarray\n",
    "First, let's open a single file.\n",
    "\n",
    "Our data is stored in the cloud on Jetstream2. We'll load in one of the NetCDF files, recast it from an s3 `fsspec` object into something that `xarray` can open, and then open and examine the dataset."
   ]
  },
  {
   "cell_type": "code",
   "execution_count": null,
   "id": "ed825e8d-407d-4b72-93fc-85ef1de1b815",
   "metadata": {},
   "outputs": [],
   "source": [
    "jetstream_url = 'https://js2.jetstream-cloud.org:8001/'\n",
    "\n",
    "s3 = s3fs.S3FileSystem(anon=True, client_kwargs=dict(endpoint_url=jetstream_url))\n",
    "\n",
    "s3path = 's3://pythia/ml-hurricane-intensity/final_proc_5yr_6h.nc'\n",
    "\n",
    "# Open all files from folder\n",
    "s3file = s3.open(s3path)\n",
    "\n",
    "# Open with xarray\n",
    "ds = xr.open_dataset(s3file)\n"
   ]
  },
  {
   "cell_type": "code",
   "execution_count": null,
   "id": "31a8cc52-b063-49a9-ab4a-967097f5a9b6",
   "metadata": {},
   "outputs": [],
   "source": [
    "ds"
   ]
  }
 ],
 "metadata": {
  "kernelspec": {
   "display_name": "Local Turing Environment (Testing Only!)",
   "language": "python",
   "name": "local"
  },
  "language_info": {
   "codemirror_mode": {
    "name": "ipython",
    "version": 3
   },
   "file_extension": ".py",
   "mimetype": "text/x-python",
   "name": "python",
   "nbconvert_exporter": "python",
   "pygments_lexer": "ipython3",
   "version": "3.13.5"
  }
 },
 "nbformat": 4,
 "nbformat_minor": 5
}
